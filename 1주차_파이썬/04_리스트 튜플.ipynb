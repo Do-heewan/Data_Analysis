{
 "cells": [
  {
   "cell_type": "code",
   "execution_count": 2,
   "metadata": {},
   "outputs": [
    {
     "name": "stdout",
     "output_type": "stream",
     "text": [
      "# 리스트만들기 #\n",
      "[10, 20, 30, 40, 50]\n",
      "['A', 'B', 'C', 'D', 'E']\n",
      "[100, 'Python', [1, 2, 3]]\n",
      "[[10, 20, 30, 40, 50], ['A', 'B', 'C', 'D', 'E']]\n"
     ]
    }
   ],
   "source": [
    "print('# 리스트만들기 #')\n",
    "list1 = [10, 20, 30, 40, 50] # 숫자 리스트\n",
    "list2 = ['A', 'B', 'C', 'D', 'E'] # 문자 리스트\n",
    "list3 = [100, 'Python', [1, 2, 3]] # 여러 자료형의 리스트\n",
    "list4 = [list1, list2]\n",
    "\n",
    "print(list1)\n",
    "print(list2)\n",
    "print(list3)\n",
    "print(list4)"
   ]
  },
  {
   "cell_type": "code",
   "execution_count": 3,
   "metadata": {},
   "outputs": [
    {
     "name": "stdout",
     "output_type": "stream",
     "text": [
      "# 리스트 인덱싱 #\n",
      "10\n",
      "B\n",
      "[1, 2, 3]\n",
      "<class 'int'>\n",
      "<class 'str'>\n",
      "<class 'list'>\n"
     ]
    }
   ],
   "source": [
    "print(\"# 리스트 인덱싱 #\")\n",
    "list1 = [10, 20, 30, 40, 50]\n",
    "list2 = ['A', 'B', 'C', 'D', 'E']\n",
    "list3 = [100, 'Python', [1, 2, 3]]\n",
    "\n",
    "print(list1[0])\n",
    "print(list2[1])\n",
    "print(list3[2])\n",
    "print(type(list1[0]))\n",
    "print(type(list2[1]))\n",
    "print(type(list3[2]))"
   ]
  },
  {
   "cell_type": "code",
   "execution_count": 5,
   "metadata": {},
   "outputs": [
    {
     "name": "stdout",
     "output_type": "stream",
     "text": [
      "[20, 30, 40, 50]\n",
      "[20, 30, 40, 50, 60, 70, 80]\n",
      "[10, 20, 30, 40, 50]\n",
      "[10, 20, 30, 40, 50, 60, 70, 80]\n",
      "[20, 40, 60]\n",
      "[70, 80]\n",
      "[10, 20, 30, 40, 50, 60]\n",
      "[80, 70, 60, 50, 40, 30, 20, 10]\n",
      "[20, 10]\n",
      "[80, 70, 60, 50]\n",
      "[40, 30]\n"
     ]
    }
   ],
   "source": [
    "# 리스트 슬라이싱\n",
    "\n",
    "a = [10, 20, 30, 40, 50, 60, 70, 80]\n",
    "\n",
    "print(a[1:5])\n",
    "print(a[1:])\n",
    "print(a[:5])\n",
    "print(a[:])\n",
    "print(a[1:7:2])\n",
    "print(a[-2:])\n",
    "print(a[:-2])\n",
    "print(a[::-1])\n",
    "print(a[1::-1])\n",
    "print(a[-1:-5:-1])\n",
    "print(a[3:-7:-1])"
   ]
  },
  {
   "cell_type": "code",
   "execution_count": 8,
   "metadata": {},
   "outputs": [
    {
     "name": "stdout",
     "output_type": "stream",
     "text": [
      "[50, 60, 70]\n",
      "[10, 20, 30, 40, 50, 60]\n",
      "[10, 5, 15, 20, 10, 5, 15, 20]\n",
      "False\n",
      "False\n",
      "True\n"
     ]
    }
   ],
   "source": [
    "list1 = [10, 20, 30, 40]; list2 = [50, 60]; list3 = [10, 5, 15, 20]\n",
    "print(list2 + [70]) # 리스트 연결\n",
    "print(list1 + list2) # 두 리스트 연결\n",
    "print(list3 * 2) # 리스트 반복\n",
    "print(list1 == list2) # 두 리스트가 같은지 검사\n",
    "print(list1 > list2) # 리스트 크기 비교\n",
    "print(list1 > list3)"
   ]
  },
  {
   "cell_type": "code",
   "execution_count": 9,
   "metadata": {},
   "outputs": [
    {
     "name": "stdout",
     "output_type": "stream",
     "text": [
      "True\n",
      "출석\n",
      "출석 인원 :  5\n"
     ]
    }
   ],
   "source": [
    "name = ['김유신', '이순신', '홍길동', '최하나', '한나라']\n",
    "check = input(\"이름 입력 : \")\n",
    "print(check in name)\n",
    "if (check in name):\n",
    "    print(\"출석\")\n",
    "else:\n",
    "    print(\"결석\")\n",
    "\n",
    "print(\"출석 인원 : \", len(name))"
   ]
  },
  {
   "cell_type": "code",
   "execution_count": 10,
   "metadata": {},
   "outputs": [
    {
     "name": "stdout",
     "output_type": "stream",
     "text": [
      "[10, 30, 50, 70]\n",
      "[10, 20, 30, 50, 70]\n"
     ]
    }
   ],
   "source": [
    "a = [10, 30, 50]\n",
    "a.append(70)\n",
    "print(a)\n",
    "\n",
    "a.insert(1, 20)\n",
    "print(a)"
   ]
  },
  {
   "cell_type": "code",
   "execution_count": 12,
   "metadata": {},
   "outputs": [
    {
     "name": "stdout",
     "output_type": "stream",
     "text": [
      "[10, 30, 50, ['a', 'b', 'c']]\n",
      "[10, 30, 50]\n",
      "[10, 30, 50, 'a', 'b', 'c']\n",
      "[10, 30, 50, 'a', 'b', 'c', 'd', 'e']\n",
      "[10, 30, 50, 'a', 'b', 'c', 'd', 'e', 70, 90]\n"
     ]
    }
   ],
   "source": [
    "a = [10, 30, 50]\n",
    "s = ['a', 'b', 'c']\n",
    "a.append(s)\n",
    "print(a)\n",
    "\n",
    "del(a[3])\n",
    "print(a)\n",
    "\n",
    "a.extend(s)\n",
    "print(a)\n",
    "\n",
    "a.extend('de')\n",
    "print(a)\n",
    "\n",
    "a.extend(range(70, 100, 20))\n",
    "print(a)"
   ]
  },
  {
   "cell_type": "code",
   "execution_count": null,
   "metadata": {},
   "outputs": [
    {
     "name": "stdout",
     "output_type": "stream",
     "text": [
      "[10, 20, 30, 40]\n",
      "[10, 30, 40]\n",
      "[10, 40]\n"
     ]
    }
   ],
   "source": [
    "num = [10, 20, 30, 40, 50]\n",
    "num.pop()\n",
    "print(num)\n",
    "\n",
    "num.pop(1) # 1번 인덱스 값 삭제\n",
    "print(num)\n",
    "\n",
    "num.remove(30) # 30 삭제\n",
    "print(num)"
   ]
  },
  {
   "cell_type": "code",
   "execution_count": null,
   "metadata": {},
   "outputs": [
    {
     "name": "stdout",
     "output_type": "stream",
     "text": [
      "[]\n",
      "3\n"
     ]
    }
   ],
   "source": [
    "num1 = [10, 20, 30, 40, 50]\n",
    "num2 = [100, 90, 90, 90, 80]\n",
    "\n",
    "num1.clear()\n",
    "print(num1)\n",
    "\n",
    "print(num2.count(90)) # 지정된 원소의 갯수"
   ]
  },
  {
   "cell_type": "code",
   "execution_count": 15,
   "metadata": {},
   "outputs": [
    {
     "name": "stdout",
     "output_type": "stream",
     "text": [
      "[10, 20, 30, 50]\n",
      "[100, 90, 80]\n"
     ]
    },
    {
     "ename": "NameError",
     "evalue": "name 'num1' is not defined",
     "output_type": "error",
     "traceback": [
      "\u001b[1;31m---------------------------------------------------------------------------\u001b[0m",
      "\u001b[1;31mNameError\u001b[0m                                 Traceback (most recent call last)",
      "Cell \u001b[1;32mIn[15], line 11\u001b[0m\n\u001b[0;32m      8\u001b[0m \u001b[38;5;28mprint\u001b[39m(num2)\n\u001b[0;32m     10\u001b[0m \u001b[38;5;28;01mdel\u001b[39;00m num1\n\u001b[1;32m---> 11\u001b[0m \u001b[38;5;28mprint\u001b[39m(num1)\n",
      "\u001b[1;31mNameError\u001b[0m: name 'num1' is not defined"
     ]
    }
   ],
   "source": [
    "num1 = [10, 20, 30, 40, 50]\n",
    "num2 = [100, 90, 90, 90, 80]\n",
    "\n",
    "del num1[3]\n",
    "print(num1)\n",
    "\n",
    "del(num2[1:3])\n",
    "print(num2)\n",
    "\n",
    "del num1\n",
    "print(num1) # 오류"
   ]
  },
  {
   "cell_type": "code",
   "execution_count": null,
   "metadata": {},
   "outputs": [
    {
     "name": "stdout",
     "output_type": "stream",
     "text": [
      "2\n",
      "4\n",
      "2\n"
     ]
    }
   ],
   "source": [
    "jumsu = [34, 78, 100, 68, 99, 67, 88, 60, 50, 44]\n",
    "print(jumsu.index(100))\n",
    "print(jumsu.index(99, 3))\n",
    "print(jumsu.index(100, 2, 5))"
   ]
  },
  {
   "cell_type": "code",
   "execution_count": 30,
   "metadata": {},
   "outputs": [
    {
     "name": "stdout",
     "output_type": "stream",
     "text": [
      "8\n",
      "8\n"
     ]
    }
   ],
   "source": [
    "s1 = \"python language\"\n",
    "print(s1.index('a'))\n",
    "print(s1.index('a', 7, 13))"
   ]
  },
  {
   "cell_type": "code",
   "execution_count": null,
   "metadata": {},
   "outputs": [],
   "source": [
    "jumsu = [34, 78, 100, 68, 99, 67, 88, 60, 50, 44]\n",
    "print(jumsu, )"
   ]
  }
 ],
 "metadata": {
  "kernelspec": {
   "display_name": "base",
   "language": "python",
   "name": "python3"
  },
  "language_info": {
   "codemirror_mode": {
    "name": "ipython",
    "version": 3
   },
   "file_extension": ".py",
   "mimetype": "text/x-python",
   "name": "python",
   "nbconvert_exporter": "python",
   "pygments_lexer": "ipython3",
   "version": "3.11.9"
  }
 },
 "nbformat": 4,
 "nbformat_minor": 2
}
