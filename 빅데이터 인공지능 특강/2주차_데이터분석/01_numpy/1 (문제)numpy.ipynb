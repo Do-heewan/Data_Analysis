{
 "cells": [
  {
   "cell_type": "code",
   "execution_count": 1,
   "id": "7109f3c2-1e0b-4905-8723-5f801bb9090d",
   "metadata": {},
   "outputs": [],
   "source": [
    "import numpy as np"
   ]
  },
  {
   "cell_type": "markdown",
   "id": "78b820ae-ba61-47b6-940e-2e66a5ed5255",
   "metadata": {},
   "source": [
    "### 문제1\n",
    "0이상 100이하의 임의의 정수들로 구성되는 10행 5열의 2차원 numpy array인 ``score``를 생성하시오."
   ]
  },
  {
   "cell_type": "code",
   "execution_count": 4,
   "id": "2ebb36b5-bf42-46cc-8782-d597810eebdf",
   "metadata": {},
   "outputs": [
    {
     "data": {
      "text/plain": [
       "array([[61, 86, 96, 18, 92],\n",
       "       [35, 39, 73, 71, 81],\n",
       "       [21, 32, 45, 33,  9],\n",
       "       [82, 88,  3, 55, 36],\n",
       "       [92, 85, 96, 45, 67],\n",
       "       [42, 61,  6, 55, 99],\n",
       "       [95, 58, 10,  4,  4],\n",
       "       [78, 73, 94, 28, 78],\n",
       "       [84, 10, 61, 23, 76],\n",
       "       [23, 15,  7, 69, 49]])"
      ]
     },
     "execution_count": 4,
     "metadata": {},
     "output_type": "execute_result"
    }
   ],
   "source": []
  },
  {
   "cell_type": "markdown",
   "id": "febbdffd-d9ba-4ce1-b46f-dfdaf09cb4f3",
   "metadata": {},
   "source": [
    "### 문제2\n",
    "지금부터 ``score``가 10명의 학생들의 국어, 영어, 수학, 과학, 사회 점수를 뜻한다고 가정하자.\n",
    "\n",
    "이제 5개 과목의 평균점수를 뜻하는 ``avg_subject`` array(1차원)를 생성하시오. "
   ]
  },
  {
   "cell_type": "code",
   "execution_count": 7,
   "id": "e8883b66-cd75-46d1-930d-6c86afe24fbd",
   "metadata": {},
   "outputs": [
    {
     "data": {
      "text/plain": [
       "array([61.3, 54.7, 49.1, 40.1, 59.1])"
      ]
     },
     "execution_count": 7,
     "metadata": {},
     "output_type": "execute_result"
    }
   ],
   "source": []
  },
  {
   "cell_type": "markdown",
   "id": "b936b53a-ff45-40ae-8fa4-f9d7f87a67ae",
   "metadata": {},
   "source": [
    "### 문제3\n",
    "학생별 평균점수를 뜻하는 ``avg_student`` array(1차원)를 생성하시오. "
   ]
  },
  {
   "cell_type": "code",
   "execution_count": 8,
   "id": "ccd55fa4-67de-4e1c-b044-53ad13b6dad3",
   "metadata": {},
   "outputs": [
    {
     "data": {
      "text/plain": [
       "array([70.6, 59.8, 28. , 52.8, 77. , 52.6, 34.2, 70.2, 50.8, 32.6])"
      ]
     },
     "execution_count": 8,
     "metadata": {},
     "output_type": "execute_result"
    }
   ],
   "source": []
  },
  {
   "cell_type": "markdown",
   "id": "9d6a7e8c-2097-44c4-95ab-3acd4c693303",
   "metadata": {},
   "source": [
    "### 문제4\n",
    "10명 중 row의 index가 짝수인 학생은 여학생(index 0 포함), 홀수인 학생은 남학생이라고 할 때, <br>\n",
    "여학생 전체의 5개과목별 평균점수를 뜻하는 ``avg_female`` array(1차원)을 구하시오."
   ]
  },
  {
   "cell_type": "code",
   "execution_count": 9,
   "id": "3f596be7-53c3-4137-b579-96155bb4f067",
   "metadata": {},
   "outputs": [
    {
     "data": {
      "text/plain": [
       "array([70.6, 54.2, 61.6, 24.6, 49.6])"
      ]
     },
     "execution_count": 9,
     "metadata": {},
     "output_type": "execute_result"
    }
   ],
   "source": []
  },
  {
   "cell_type": "markdown",
   "id": "38114eef-3e3d-4362-9883-8bb37f6891e1",
   "metadata": {},
   "source": [
    "### 문제5\n",
    "마찬가지로 남학생 전체의 5개과목별 평균점수를 뜻하는 ``avg_male`` array(1차원)을 구하시오."
   ]
  },
  {
   "cell_type": "code",
   "execution_count": 11,
   "id": "6ea4b113-e9b1-4009-912c-271d7d428512",
   "metadata": {},
   "outputs": [
    {
     "data": {
      "text/plain": [
       "array([52. , 55.2, 36.6, 55.6, 68.6])"
      ]
     },
     "execution_count": 11,
     "metadata": {},
     "output_type": "execute_result"
    }
   ],
   "source": []
  },
  {
   "cell_type": "markdown",
   "id": "2376efcc-2bff-4634-917c-e964a49f334c",
   "metadata": {},
   "source": [
    "### 문제6\n",
    "5개 과목의 표준편차 std_array(1차원)를 생성하시오."
   ]
  },
  {
   "cell_type": "code",
   "execution_count": 27,
   "id": "cc6e0811-43c2-421d-9e4e-51386f219310",
   "metadata": {},
   "outputs": [
    {
     "data": {
      "text/plain": [
       "array([29.45318319, 31.86989175, 24.40676136, 29.97932621, 24.6771149 ])"
      ]
     },
     "execution_count": 27,
     "metadata": {},
     "output_type": "execute_result"
    }
   ],
   "source": []
  },
  {
   "cell_type": "markdown",
   "id": "e57d8119-d537-41f1-9f33-f967e3702f8e",
   "metadata": {},
   "source": [
    "### 문제7\n",
    "각 과목의 최고점수(max) max_array(1차원)를 생성하시오."
   ]
  },
  {
   "cell_type": "code",
   "execution_count": 28,
   "id": "b17e0f03-29d4-43eb-8bc2-c67398182651",
   "metadata": {},
   "outputs": [
    {
     "data": {
      "text/plain": [
       "array([ 94,  99, 100,  94,  97])"
      ]
     },
     "execution_count": 28,
     "metadata": {},
     "output_type": "execute_result"
    }
   ],
   "source": []
  },
  {
   "cell_type": "markdown",
   "id": "3aec10ce-4052-4148-93ef-9aac4e71c2a9",
   "metadata": {
    "tags": []
   },
   "source": [
    "### 문제 8"
   ]
  },
  {
   "cell_type": "markdown",
   "id": "9eb9a8d2-540a-469c-abed-63c3dff263ea",
   "metadata": {},
   "source": [
    " 2차원 넘파이 배열에 100명의 (키, 몸무게, 나이)를 저장하고 있다. \n",
    " - 정규분포를 이용하여 자동으로 데이터를 생성\n",
    " - 정규분포 생성 시 키는 175, 몸무게는 70, 나니는 22세를 평균으로 하고 표준편차는 10이 되도록 한다\n",
    " - 데이터의 실제 평균과 중앙값을 구하기"
   ]
  },
  {
   "cell_type": "code",
   "execution_count": null,
   "id": "1309e027-36b0-4a44-9d52-4bf6c61280c6",
   "metadata": {},
   "outputs": [],
   "source": []
  },
  {
   "cell_type": "code",
   "execution_count": null,
   "id": "de882788-3fe3-4d26-8e60-4c64a46410fe",
   "metadata": {},
   "outputs": [],
   "source": []
  }
 ],
 "metadata": {
  "kernelspec": {
   "display_name": "Python 3 (ipykernel)",
   "language": "python",
   "name": "python3"
  },
  "language_info": {
   "codemirror_mode": {
    "name": "ipython",
    "version": 3
   },
   "file_extension": ".py",
   "mimetype": "text/x-python",
   "name": "python",
   "nbconvert_exporter": "python",
   "pygments_lexer": "ipython3",
   "version": "3.12.4"
  }
 },
 "nbformat": 4,
 "nbformat_minor": 5
}
