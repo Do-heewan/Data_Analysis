{
 "cells": [
  {
   "cell_type": "markdown",
   "metadata": {},
   "source": [
    "### 넘파이 설치"
   ]
  },
  {
   "cell_type": "code",
   "execution_count": null,
   "metadata": {},
   "outputs": [],
   "source": [
    "# !pip install numpy"
   ]
  },
  {
   "cell_type": "markdown",
   "metadata": {},
   "source": [
    "### 넘파이 임포트"
   ]
  },
  {
   "cell_type": "code",
   "execution_count": 1,
   "metadata": {
    "tags": []
   },
   "outputs": [],
   "source": [
    "import numpy as np"
   ]
  },
  {
   "cell_type": "code",
   "execution_count": 2,
   "metadata": {
    "tags": []
   },
   "outputs": [
    {
     "name": "stdout",
     "output_type": "stream",
     "text": [
      "[[2 1 6]\n",
      " [0 7 4]\n",
      " [5 3 2]]\n",
      "[[5 7 6]\n",
      " [2 3 4]\n",
      " [0 1 2]]\n"
     ]
    }
   ],
   "source": [
    "x = np.array([[2, 1, 6],[0, 7, 4],[5, 3, 2]])\n",
    "print(x)\n",
    "print(np.sort(x, axis=0)[::-1])"
   ]
  },
  {
   "cell_type": "code",
   "execution_count": 3,
   "metadata": {
    "tags": []
   },
   "outputs": [
    {
     "name": "stdout",
     "output_type": "stream",
     "text": [
      "[[ 0  1  2  3]\n",
      " [ 4  5  6  7]\n",
      " [ 8  9 10 11]\n",
      " [12 13 14 15]] \n",
      "\n",
      "[[ 4  5  6  7]\n",
      " [12 13 14 15]] \n",
      "\n",
      "[[ 4  6]\n",
      " [12 14]]\n"
     ]
    }
   ],
   "source": [
    "a = np.arange(16).reshape(4,4)\n",
    "print(a,'\\n')\n",
    "print(a[[1,3],:],'\\n')\n",
    "print(a[[1,3],0::2])"
   ]
  },
  {
   "cell_type": "markdown",
   "metadata": {
    "tags": []
   },
   "source": [
    "### 넘파이 버전 확인  \n",
    "- `__version__` 넘파이 모듈 임포트 후에 현재 설치된 numpy의 버전 체크가 가능"
   ]
  },
  {
   "cell_type": "code",
   "execution_count": null,
   "metadata": {
    "tags": []
   },
   "outputs": [],
   "source": [
    "import numpy as np\n",
    "print(np.__version__)"
   ]
  },
  {
   "cell_type": "markdown",
   "metadata": {},
   "source": [
    "### 넘파이 배열 생성"
   ]
  },
  {
   "cell_type": "markdown",
   "metadata": {},
   "source": [
    "#### 1) 넘파이 배열 기본 생성"
   ]
  },
  {
   "cell_type": "code",
   "execution_count": null,
   "metadata": {
    "tags": []
   },
   "outputs": [],
   "source": [
    "#리스트로 넘파이 배열(1차원) 생성\n",
    "import numpy as np\n",
    "arr1 = np.array([0, 2, 5.5, 7])\n",
    "arr1"
   ]
  },
  {
   "cell_type": "code",
   "execution_count": null,
   "metadata": {},
   "outputs": [],
   "source": [
    "#리스트로 넘파이 배열(1차원) 생성\n",
    "import numpy as np\n",
    "list1 = [0, 2, 5.5, 7]\n",
    "arr1 = np.array(list1)\n",
    "print(arr1)"
   ]
  },
  {
   "cell_type": "code",
   "execution_count": null,
   "metadata": {},
   "outputs": [],
   "source": [
    "import numpy as np\n",
    "a = np.array([1, 2, 3, 4])\n",
    "print(a)\n",
    "print(type(a))\n",
    "print(a.dtype)\n",
    "\n",
    "b = np.array([1.2, 3, 5.1])\n",
    "print(b)\n",
    "print(type(b))\n",
    "print(b.dtype)"
   ]
  },
  {
   "cell_type": "code",
   "execution_count": null,
   "metadata": {},
   "outputs": [],
   "source": [
    "#리스트로 넘파이 배열(2차원) 생성\n",
    "import numpy as np\n",
    "arr2 = np.array([[1, 2, 3], [4, 5, 6]])\n",
    "print(arr2)"
   ]
  },
  {
   "cell_type": "code",
   "execution_count": null,
   "metadata": {},
   "outputs": [],
   "source": [
    "#리스트로 넘파이 배열(2차원) 생성\n",
    "import numpy as np\n",
    "arr2 = np.array([[1, 2, 3], [4, 5, 6]])\n",
    "print(arr2)\n",
    "print(arr2.shape)\n",
    "print(arr2.ndim)\n",
    "arr2.dtype"
   ]
  },
  {
   "cell_type": "code",
   "execution_count": null,
   "metadata": {},
   "outputs": [],
   "source": [
    "import numpy as np\n",
    "a = np.array([1, 2, 3])\n",
    "b = np.array([[1, 2, 3], [4, 5, 6], [7, 8, 9]])\n",
    "c = np.array([[[1, 2], [3, 4]], [[5, 6], [7, 8]], [[9, 10], [11, 12]]])\n",
    "print(a, '\\n')\n",
    "print(b, '\\n')\n",
    "print(c, '\\n')\n",
    "print(a[0], b[0][1], c[0][1][1])"
   ]
  },
  {
   "cell_type": "code",
   "execution_count": null,
   "metadata": {
    "tags": []
   },
   "outputs": [],
   "source": [
    "print(a.shape, a.ndim, a.size)\n",
    "print(b.shape, b.ndim, b.size)\n",
    "print(c.shape, c.ndim, c.size)"
   ]
  },
  {
   "cell_type": "markdown",
   "metadata": {},
   "source": [
    "### 넘파이 배열의 데이터 타입(dtype)을 지정하는 두 가지 방법"
   ]
  },
  {
   "cell_type": "code",
   "execution_count": null,
   "metadata": {},
   "outputs": [],
   "source": [
    "a = np.array([1, 2, 3, 4], dtype = np.int32)\n",
    "print(a)\n",
    "a.dtype"
   ]
  },
  {
   "cell_type": "code",
   "execution_count": null,
   "metadata": {},
   "outputs": [],
   "source": [
    "a = np.array([1, 2, 3, 4], dtype = 'int32')\n",
    "print(a)\n",
    "a.dtype"
   ]
  },
  {
   "cell_type": "code",
   "execution_count": null,
   "metadata": {},
   "outputs": [],
   "source": [
    "a = np.array([1, 2, 3, 4], dtype = 'int32')\n",
    "print(a)\n",
    "print(a.dtype)\n",
    "print(a.astype(float))\n",
    "print(a.dtype)\n",
    "b = a.astype(float)\n",
    "print(b.dtype)"
   ]
  },
  {
   "cell_type": "code",
   "execution_count": null,
   "metadata": {},
   "outputs": [],
   "source": [
    "data2 = [[1, 2, 3, 4], [5, 6, 7, 8]]\n",
    "arr4 = np.array(data2)\n",
    "print(arr4)\n",
    "print(arr4.shape)\n",
    "print(arr4.dtype)"
   ]
  },
  {
   "cell_type": "markdown",
   "metadata": {},
   "source": [
    "### 넘파이 배열 생성(초기화)"
   ]
  },
  {
   "cell_type": "markdown",
   "metadata": {},
   "source": [
    "#### 2) np.zeros()"
   ]
  },
  {
   "cell_type": "code",
   "execution_count": null,
   "metadata": {},
   "outputs": [],
   "source": [
    "import numpy as np\n",
    "arr = np.zeros(5)\n",
    "# arr = np.zeros(5,)\n",
    "arr"
   ]
  },
  {
   "cell_type": "code",
   "execution_count": null,
   "metadata": {},
   "outputs": [],
   "source": [
    "type(arr)"
   ]
  },
  {
   "cell_type": "code",
   "execution_count": null,
   "metadata": {},
   "outputs": [],
   "source": [
    "arr.shape"
   ]
  },
  {
   "cell_type": "code",
   "execution_count": null,
   "metadata": {},
   "outputs": [],
   "source": [
    "arr.dtype"
   ]
  },
  {
   "cell_type": "code",
   "execution_count": null,
   "metadata": {},
   "outputs": [],
   "source": [
    "arr = np.zeros(shape=(6, 2))\n",
    "arr"
   ]
  },
  {
   "cell_type": "code",
   "execution_count": null,
   "metadata": {},
   "outputs": [],
   "source": [
    "arr1 = np.zeros((6, 2))\n",
    "arr1"
   ]
  },
  {
   "cell_type": "code",
   "execution_count": null,
   "metadata": {},
   "outputs": [],
   "source": [
    "arr1.size"
   ]
  },
  {
   "cell_type": "code",
   "execution_count": null,
   "metadata": {},
   "outputs": [],
   "source": [
    "arr = np.zeros(shape=(6, 2))\n",
    "for i in range(6):\n",
    "    arr[i] = (i, i)\n",
    "    print(arr[i])"
   ]
  },
  {
   "cell_type": "code",
   "execution_count": null,
   "metadata": {},
   "outputs": [],
   "source": [
    "arr.size"
   ]
  },
  {
   "cell_type": "code",
   "execution_count": null,
   "metadata": {},
   "outputs": [],
   "source": [
    "arr.dtype"
   ]
  },
  {
   "cell_type": "markdown",
   "metadata": {},
   "source": [
    "#### 3) np.ones()"
   ]
  },
  {
   "cell_type": "code",
   "execution_count": null,
   "metadata": {},
   "outputs": [],
   "source": [
    "np.ones(5)"
   ]
  },
  {
   "cell_type": "code",
   "execution_count": null,
   "metadata": {},
   "outputs": [],
   "source": [
    "np.ones(shape=(6, 2))"
   ]
  },
  {
   "cell_type": "code",
   "execution_count": null,
   "metadata": {},
   "outputs": [],
   "source": [
    "np.ones((5,), dtype=int)"
   ]
  },
  {
   "cell_type": "code",
   "execution_count": null,
   "metadata": {},
   "outputs": [],
   "source": [
    "np.ones((3, 4))"
   ]
  },
  {
   "cell_type": "markdown",
   "metadata": {},
   "source": [
    "#### 4) np.eye(), np.empty()"
   ]
  },
  {
   "cell_type": "code",
   "execution_count": null,
   "metadata": {},
   "outputs": [],
   "source": [
    "import numpy as np\n",
    "np.eye(3) # 3x3 크기의 단위 행렬 생성"
   ]
  },
  {
   "cell_type": "code",
   "execution_count": null,
   "metadata": {},
   "outputs": [],
   "source": [
    "np.eye(3, dtype=int)"
   ]
  },
  {
   "cell_type": "code",
   "execution_count": null,
   "metadata": {},
   "outputs": [],
   "source": [
    "# k가 1이므로 대각선 기준으로 하여 1단계 위로 1이 배치\n",
    "np.eye(3, k=1)"
   ]
  },
  {
   "cell_type": "code",
   "execution_count": null,
   "metadata": {},
   "outputs": [],
   "source": [
    "# k가 1이므로 대각선 기준으로 하여 1단계 아래로 1이 배치\n",
    "np.eye(3, k=-1)"
   ]
  },
  {
   "cell_type": "code",
   "execution_count": null,
   "metadata": {},
   "outputs": [],
   "source": [
    "np.identity(3)"
   ]
  },
  {
   "cell_type": "code",
   "execution_count": null,
   "metadata": {},
   "outputs": [],
   "source": [
    "import numpy as np\n",
    "np.empty((2, 2))"
   ]
  },
  {
   "cell_type": "code",
   "execution_count": null,
   "metadata": {},
   "outputs": [],
   "source": [
    "np.empty((2, 2), dtype=int)"
   ]
  },
  {
   "cell_type": "code",
   "execution_count": null,
   "metadata": {},
   "outputs": [],
   "source": [
    "import numpy as np\n",
    "arr = np.empty((2, 2), dtype=int)\n",
    "arr"
   ]
  },
  {
   "cell_type": "markdown",
   "metadata": {},
   "source": [
    "#### 5) np.linspace()\n",
    "- 구간 내에 숫자를 균일한 간격으로 촘촘하게 채울 수 있는 np.linspace 함수\n",
    "- np.linspace(구간 시작점, 구간 끝점(끝점 포함), 구간 내 숫자 개수)\n",
    "  - 끝점을 포함하지 않고 싶으면 endpoint = False\n",
    "  - retstep = True를 추가하시면 숫자 사이의 간격이 얼마인지에 대한 값을 같이 반환"
   ]
  },
  {
   "cell_type": "code",
   "execution_count": null,
   "metadata": {},
   "outputs": [],
   "source": [
    "import numpy as np\n",
    "np.linspace(1,10,5)"
   ]
  },
  {
   "cell_type": "code",
   "execution_count": null,
   "metadata": {},
   "outputs": [],
   "source": [
    "import numpy as np\n",
    "np.linspace(1,10,num=5)"
   ]
  },
  {
   "cell_type": "code",
   "execution_count": null,
   "metadata": {},
   "outputs": [],
   "source": [
    "import numpy as np\n",
    "np.linspace(1,10)"
   ]
  },
  {
   "cell_type": "code",
   "execution_count": null,
   "metadata": {},
   "outputs": [],
   "source": [
    "np.linspace(2.0, 3.0, num=5)"
   ]
  },
  {
   "cell_type": "code",
   "execution_count": null,
   "metadata": {},
   "outputs": [],
   "source": [
    "# endpoint :지정하지 않으면 True\n",
    "np.linspace(2.0, 3.0, num=5, endpoint=False)"
   ]
  },
  {
   "cell_type": "code",
   "execution_count": null,
   "metadata": {},
   "outputs": [],
   "source": [
    "# endpoint :지정하지 않으면 True\n",
    "np.linspace(2.0, 3.0, num=5, endpoint=True)"
   ]
  },
  {
   "cell_type": "code",
   "execution_count": null,
   "metadata": {
    "tags": []
   },
   "outputs": [],
   "source": [
    "import numpy as np\n",
    "np.linspace(1,2,20)"
   ]
  },
  {
   "cell_type": "code",
   "execution_count": null,
   "metadata": {
    "tags": []
   },
   "outputs": [],
   "source": [
    "import numpy as np\n",
    "np.linspace(1,2,20, endpoint = False)"
   ]
  },
  {
   "cell_type": "code",
   "execution_count": null,
   "metadata": {
    "tags": []
   },
   "outputs": [],
   "source": [
    "np.linspace(1,2,20, endpoint = False, retstep = True)"
   ]
  },
  {
   "cell_type": "code",
   "execution_count": null,
   "metadata": {
    "tags": []
   },
   "outputs": [],
   "source": [
    "print(np.pi)\n",
    "print(np.linspace(0, 2))\n",
    "print(np.linspace(0, 2*np.pi))"
   ]
  },
  {
   "cell_type": "markdown",
   "metadata": {},
   "source": [
    "#### 6) np.arange()\n",
    "- 수열을 만들려고 할 때, np.arange 함수를 많이 사용\n",
    "- np.arange(시작점(생략 시 0), 끝점(미포함), step size(생략 시 1)) \n",
    "- range 함수에는 정수 단위만 지원하나, np.arange는 실수 단위도 표현 가능\n",
    "- range 메소드는 range iterator 자료형을 반환하고, np.arange 메소드는 numpy array 자료형을 반환\n",
    "- np.arange 메소드 결과는 넘파이에서 수행하는 연산 연계가 가능"
   ]
  },
  {
   "cell_type": "code",
   "execution_count": null,
   "metadata": {},
   "outputs": [],
   "source": [
    "arr = np.arange(5)\n",
    "arr"
   ]
  },
  {
   "cell_type": "code",
   "execution_count": null,
   "metadata": {},
   "outputs": [],
   "source": [
    "np.arange(1, 5)"
   ]
  },
  {
   "cell_type": "code",
   "execution_count": null,
   "metadata": {},
   "outputs": [],
   "source": [
    "np.arange(1, 10, 2)"
   ]
  },
  {
   "cell_type": "code",
   "execution_count": null,
   "metadata": {},
   "outputs": [],
   "source": [
    "np.arange(5.)"
   ]
  },
  {
   "cell_type": "code",
   "execution_count": null,
   "metadata": {},
   "outputs": [],
   "source": [
    "np.arange(1., 5.)"
   ]
  },
  {
   "cell_type": "code",
   "execution_count": null,
   "metadata": {},
   "outputs": [],
   "source": [
    "np.arange(1, 10.5, 2.5)"
   ]
  },
  {
   "cell_type": "code",
   "execution_count": null,
   "metadata": {},
   "outputs": [],
   "source": [
    "range(5)"
   ]
  },
  {
   "cell_type": "code",
   "execution_count": null,
   "metadata": {},
   "outputs": [],
   "source": [
    "list(range(5))"
   ]
  },
  {
   "cell_type": "code",
   "execution_count": null,
   "metadata": {
    "tags": []
   },
   "outputs": [],
   "source": [
    "range(0, 5, 2)"
   ]
  },
  {
   "cell_type": "code",
   "execution_count": null,
   "metadata": {},
   "outputs": [],
   "source": [
    "arr1 = np.array(range(5))\n",
    "arr1"
   ]
  },
  {
   "cell_type": "code",
   "execution_count": null,
   "metadata": {},
   "outputs": [],
   "source": [
    "arr1.shape"
   ]
  },
  {
   "cell_type": "code",
   "execution_count": null,
   "metadata": {
    "tags": []
   },
   "outputs": [],
   "source": [
    "import numpy as np\n",
    "\n",
    "print(np.arange(10))\n",
    "print(np.arange(1, 15, 2))\n",
    "print(np.arange(9, -2, -1.5))"
   ]
  },
  {
   "cell_type": "code",
   "execution_count": null,
   "metadata": {
    "tags": []
   },
   "outputs": [],
   "source": [
    "np.arange(1, 5) * 2 # 가능(numpy array 연산)"
   ]
  },
  {
   "cell_type": "markdown",
   "metadata": {},
   "source": [
    "#### 7) random 서브 모듈\n",
    "- np.random.seed()과 random.seed()의 또 다른 차이점\n",
    "  - np.random.seed 함수 내에는 음이 아닌 정수만 seed 값으로 사용될 수 있는 반면에,\n",
    "    - np.random.seed(10.5) # 불가능\n",
    "      - (TypeError: Cannot cast scalar from dtype('float64') to dtype('int64') according to the rule 'safe')\n",
    "    - np.random.seed(-10) # 불가능\n",
    "      - (ValueError: Seed must be between 0 and 2**32 - 1)\n",
    "  - random.seed 함수는 실수 범위 내의 숫자들을 모두 seed 값으로 사용할 수 있다.\n",
    "    - random.seed(10.5) # 가능\n",
    "    - random.seed(-10) # 가능"
   ]
  },
  {
   "cell_type": "code",
   "execution_count": null,
   "metadata": {
    "tags": []
   },
   "outputs": [],
   "source": [
    "np.random.seed(100) # 같은 시드를 설정하면 동일한 난수가 발생\n",
    "np.random.rand(5)"
   ]
  },
  {
   "cell_type": "code",
   "execution_count": null,
   "metadata": {
    "tags": []
   },
   "outputs": [],
   "source": [
    "np.random.seed(10) # 같은 시드를 설정하면 동일한 난수가 발생\n",
    "np.random.rand(5)"
   ]
  },
  {
   "cell_type": "code",
   "execution_count": null,
   "metadata": {
    "tags": []
   },
   "outputs": [],
   "source": [
    "np.random.seed(20)\n",
    "np.random.rand(5, 3) # 5x3 형태의 2차원 난수 배열 "
   ]
  },
  {
   "cell_type": "code",
   "execution_count": null,
   "metadata": {},
   "outputs": [],
   "source": [
    "np.random.randint(1, 7, size=10) # 1~6사이의 정수 난수 10개 발생"
   ]
  },
  {
   "cell_type": "code",
   "execution_count": null,
   "metadata": {},
   "outputs": [],
   "source": [
    "np.random.randint(1, 11, size=(4, 7)) # 1~10사이의 4x7 형태의 2차원 정수 난수 발생"
   ]
  },
  {
   "cell_type": "markdown",
   "metadata": {},
   "source": [
    "### << 모집단과 표본표준편차 >>\n",
    "- 표준편차는 각 측정값과 평균의 차이를 측정하여 해당 자료의 산포도를 나타내는 값.\n",
    "- 표준 편차란, 평균(mean) 에 대한 오차. 즉, 실제 데이터 값이 평균을 기준으로 할때 얼마나 기복이 있는지를 나타내는 것\n",
    "- 표준편차의 공식은 자료가 모집단인지 아니면 모집단을 대표하는 표본집단인지에 따라 달라진다.\n",
    "- 만약 자료가 모집단인 경우, 데이터 값의 개수 N로 나누고, 만약 자료가 모집단을 대표하는 표본집단인 경우, 표본에 있는 자료값의 개수보다 작은 N−1로 나눈다."
   ]
  },
  {
   "cell_type": "markdown",
   "metadata": {},
   "source": [
    "![표준편차](./표준편차.png)"
   ]
  },
  {
   "cell_type": "markdown",
   "metadata": {},
   "source": [
    "#### 모표준편차 구하기\n",
    "    - 1 단계: 주어진 자료의 평균을 구합니다. \n",
    "    - 2 단계: 주어진 측정값에서 평균을 뺀 만큼을 편차라 부릅니다. 편차의 값은 음수나 양수가 될 수도 있다.\n",
    "    - 3 단계: 모든 편차를 제곱하여 양수로 만든다.\n",
    "    - 4 단계: 제곱된 편차들을 모두 더한다.\n",
    "    - 5 단계: 제곱된 편차의 합을 모집단에 있는 자료의 개수로 나눈다. 이 단계에서 나온 값을 분산이라 함.\n",
    "    - 6 단계: 분산에 제곱근을 씌워 표준편차를 구한다."
   ]
  },
  {
   "cell_type": "markdown",
   "metadata": {},
   "source": [
    "#### 표본표준편차 구하기\n",
    "\n",
    "    - 1 단계: 주어진 자료의 평균을 구하고 \n",
    "    - 2 단계: 주어진 측정값에서 평균을 뺀 만큼을 편차라 함. 편차의 값은 음수나 양수가 될 수도 있다.\n",
    "    - 3 단계: 모든 편차를 제곱하여 양수로 만든다.\n",
    "    - 4 단계: 제곱된 편차들을 모두 더한다.\n",
    "    - 5 단계: 제곱된 편차들의 합을 표본집단의 자료 개수에서 하나를 뺀 값으로 나눈다. 이 단계에서 나온 값을 분산이라고 함\n",
    "    - 6 단계: 분산에 제곱근을 씌워 표준편차를 구한다."
   ]
  },
  {
   "cell_type": "code",
   "execution_count": null,
   "metadata": {},
   "outputs": [],
   "source": [
    "# 10명의 키를 난수로 생성. 평균은 170cm, 표준편차는 10인 정규분포\n",
    "np.random.seed(100)\n",
    "m = 170 \n",
    "sigma = 10 \n",
    "heights = m+sigma*np.random.randn(10)  \n",
    "heights"
   ]
  },
  {
   "cell_type": "code",
   "execution_count": null,
   "metadata": {
    "tags": []
   },
   "outputs": [],
   "source": [
    "# 10000명의 키를 난수로 생성. 평균은 175cm, 표준편차는 10인 정규분포\n",
    "m = 175 \n",
    "sigma = 10 \n",
    "heights = m+sigma*np.random.randn(10000)  \n",
    "heights"
   ]
  },
  {
   "cell_type": "code",
   "execution_count": null,
   "metadata": {
    "tags": []
   },
   "outputs": [],
   "source": [
    "# 12명의 키를 난수로 생성. 평균은 175cm, 표준편차는 10인 정규분포\n",
    "\n",
    "np.random.seed(100) # 같은 시드를 설정하면 동일한 난수가 발생\n",
    "m = 175 \n",
    "sigma = 10 \n",
    "heights = m+sigma*np.random.randn(12)  \n",
    "heights"
   ]
  },
  {
   "cell_type": "code",
   "execution_count": null,
   "metadata": {},
   "outputs": [],
   "source": [
    "# 평균값이 175, 표준편차가 10인 정규 분포 함수 생성 \n",
    "np.random.seed(100) # 같은 시드를 설정하면 동일한 난수가 발생\n",
    "nums = np.random.normal(loc=175, scale=10, size=(3, 4)).round(2)\n",
    "nums"
   ]
  },
  {
   "cell_type": "code",
   "execution_count": null,
   "metadata": {},
   "outputs": [],
   "source": [
    "# 평균값이 165, 표준편차가 10인 정규 분포 함수 생성 \n",
    "nums = np.random.normal(loc=165, scale=10, size=(3, 4)).round(2)\n",
    "nums"
   ]
  },
  {
   "cell_type": "code",
   "execution_count": null,
   "metadata": {},
   "outputs": [],
   "source": [
    "import numpy as np\n",
    "list1 = [1, 2, 3]\n",
    "list2 = [4, 5, 6]\n",
    "print(list1 + list2)\n",
    "print('--------')\n",
    "arr1 = np.array([1, 2, 3])\n",
    "arr2 = np.array([4, 5, 6])\n",
    "print(arr1 + arr2)"
   ]
  },
  {
   "cell_type": "markdown",
   "metadata": {},
   "source": [
    "### reshape()\n",
    "- 넘파이 배열의 차원을 변환"
   ]
  },
  {
   "cell_type": "code",
   "execution_count": null,
   "metadata": {},
   "outputs": [],
   "source": [
    "import numpy as np\n",
    "arr = np.array([1, 2, 3])\n",
    "arr"
   ]
  },
  {
   "cell_type": "code",
   "execution_count": null,
   "metadata": {},
   "outputs": [],
   "source": [
    "arr = np.arange(12).reshape(3,4)\n",
    "arr"
   ]
  },
  {
   "cell_type": "code",
   "execution_count": null,
   "metadata": {},
   "outputs": [],
   "source": [
    "arr.shape"
   ]
  },
  {
   "cell_type": "code",
   "execution_count": null,
   "metadata": {},
   "outputs": [],
   "source": [
    "print(arr.reshape(-1))\n",
    "arr1 = arr.reshape(-1)\n",
    "arr1"
   ]
  },
  {
   "cell_type": "code",
   "execution_count": null,
   "metadata": {},
   "outputs": [],
   "source": [
    "arr.shape"
   ]
  },
  {
   "cell_type": "code",
   "execution_count": null,
   "metadata": {},
   "outputs": [],
   "source": [
    "arr1.shape"
   ]
  },
  {
   "cell_type": "code",
   "execution_count": null,
   "metadata": {},
   "outputs": [],
   "source": [
    "arr.reshape(-1, 2)"
   ]
  },
  {
   "cell_type": "code",
   "execution_count": null,
   "metadata": {},
   "outputs": [],
   "source": [
    "arr.reshape(3, -1)"
   ]
  },
  {
   "cell_type": "markdown",
   "metadata": {},
   "source": [
    "### 넘파이 배열 인덱싱 & 슬라이싱"
   ]
  },
  {
   "cell_type": "code",
   "execution_count": null,
   "metadata": {},
   "outputs": [],
   "source": [
    "arr1 = np.arange(10)\n",
    "print(arr1,'\\n')\n",
    "print(arr1[1])\n",
    "print(arr1[:6])\n",
    "print(arr1[0:5],'\\n')\n",
    "print(arr1[::2])\n",
    "print(arr1[1::2])\n",
    "print(arr1[1:7:2],'\\n')\n",
    "print(arr1[-3:9])\n",
    "print(arr1[:-3])\n",
    "print(arr1[-3:2:-1],'\\n')\n",
    "print(arr1[5:2])\n",
    "print(arr1[5:])\n",
    "print(arr2[1:])"
   ]
  },
  {
   "cell_type": "code",
   "execution_count": null,
   "metadata": {},
   "outputs": [],
   "source": [
    "import numpy as np\n",
    "arr = np.arange(10)\n",
    "print(arr)\n",
    "arr[0] = 100\n",
    "print(arr)\n",
    "print('------------')\n",
    "arr1 = arr[3:7]\n",
    "print(arr1)\n",
    "print('------------')\n",
    "arr1[:] = 90\n",
    "print(arr1)\n",
    "print(arr)"
   ]
  },
  {
   "cell_type": "code",
   "execution_count": null,
   "metadata": {},
   "outputs": [],
   "source": [
    "arr2 = np.arange(9).reshape(3, 3)\n",
    "print(arr2)\n",
    "print('--------')\n",
    "print(arr2[0:2, 0:2])"
   ]
  },
  {
   "cell_type": "code",
   "execution_count": null,
   "metadata": {},
   "outputs": [],
   "source": [
    "arr2 = np.arange(9).reshape(3, 3)\n",
    "print(arr2,'\\n')\n",
    "print(arr2[2, 1])\n",
    "print(arr2[:2, :2])\n",
    "print(arr2[:, ::-1],'\\n')\n",
    "print(arr2[:, :])\n",
    "print(arr2[1, :])\n",
    "print(arr2[1,2])"
   ]
  },
  {
   "cell_type": "code",
   "execution_count": null,
   "metadata": {},
   "outputs": [],
   "source": [
    "arr3 = np.reshape(np.arange(24), (2, 3, 4))\n",
    "print(arr3,'\\n')\n",
    "print(arr3[1,1,2])\n",
    "print(arr3[1][2][3])\n",
    "print(arr3[0, :, 1],'\\n')\n",
    "print(arr3[1, :, :],'\\n')\n",
    "print(arr3[:2, 1:, :2])"
   ]
  },
  {
   "cell_type": "markdown",
   "metadata": {},
   "source": [
    "### 배열 연산"
   ]
  },
  {
   "cell_type": "code",
   "execution_count": null,
   "metadata": {},
   "outputs": [],
   "source": [
    "import numpy as np\n",
    "ages = np.array([18, 19, 25, 30, 28])\n",
    "y = ages > 20\n",
    "print(y)\n",
    "print(ages[ages > 20])"
   ]
  },
  {
   "cell_type": "code",
   "execution_count": null,
   "metadata": {},
   "outputs": [],
   "source": [
    "np_array = np.array([[1,2,3], [4,5,6], [7,8,9]])\n",
    "np_array > 5"
   ]
  },
  {
   "cell_type": "code",
   "execution_count": null,
   "metadata": {},
   "outputs": [],
   "source": [
    "np_array[np_array > 5]"
   ]
  },
  {
   "cell_type": "code",
   "execution_count": null,
   "metadata": {},
   "outputs": [],
   "source": [
    "np_array[(np_array > 3) & (np_array < 8)]"
   ]
  },
  {
   "cell_type": "code",
   "execution_count": null,
   "metadata": {
    "tags": []
   },
   "outputs": [],
   "source": [
    "np_array[:, 2] > 5"
   ]
  },
  {
   "cell_type": "code",
   "execution_count": null,
   "metadata": {},
   "outputs": [],
   "source": [
    "np_array[:, 2]"
   ]
  },
  {
   "cell_type": "code",
   "execution_count": null,
   "metadata": {},
   "outputs": [],
   "source": [
    "import numpy as np \n",
    "\n",
    "players = [[170, 76.4], \n",
    "           [183, 86.2], \n",
    "           [181, 78.5], \n",
    "           [176, 80.1]] \n",
    "\n",
    "np_players = np.array(players) \n",
    "\n",
    "print('몸무게가 80 이상인 선수 정보');\n",
    "print(np_players[ np_players[:, 1] >= 80.0 ])\n",
    "\n",
    "print('키가 175 이상인 선수 정보');\n",
    "print(np_players[ np_players[:, 0] >= 175.0 ])"
   ]
  },
  {
   "cell_type": "code",
   "execution_count": null,
   "metadata": {},
   "outputs": [],
   "source": [
    "# 키가 180이상이면서 몸무게가 80이상인 선수 추출\n",
    "import numpy as np \n",
    "\n",
    "players = [[170, 76.4], \n",
    "           [183, 86.2], \n",
    "           [181, 78.5], \n",
    "           [176, 80.1]] \n",
    "np_players = np.array(players)\n",
    "print( np_players[(np_players[:, 0] >= 180.0)  &  (np_players[:, 1] >= 80.0)])"
   ]
  },
  {
   "cell_type": "code",
   "execution_count": null,
   "metadata": {},
   "outputs": [],
   "source": [
    "import numpy as np\n",
    "num = np.array([18, -2, -5, 30, 28])\n",
    "# num 수가 0미만이면 0으로 변경, 그렇지 않으면 원래 값으로 대입\n",
    "p_num = np.where(num < 0, 0, num) \n",
    "print(p_num)\n",
    "print(p_num.sum())"
   ]
  },
  {
   "cell_type": "code",
   "execution_count": null,
   "metadata": {},
   "outputs": [],
   "source": [
    "import numpy as np \n",
    "arr1 = np.array([[1, 2], [3, 4]])\n",
    "arr2 = np.array([[5, 6], [7, 8]])\n",
    "print(arr1 + arr2)\n",
    "print('----------')\n",
    "print(arr1 - arr2)\n",
    "print('----------')\n",
    "print(arr1 * arr2)\n",
    "print('----------')\n",
    "print(arr1 / arr2)"
   ]
  },
  {
   "cell_type": "code",
   "execution_count": null,
   "metadata": {},
   "outputs": [],
   "source": [
    "import numpy as np \n",
    "arr1 = np.array([[1, 2], [3, 4]])\n",
    "arr2 = np.array([[5, 6], [7, 8]])\n",
    "print(np.add(arr1, arr2))\n",
    "print('----------')\n",
    "print(np.subtract(arr1, arr2))\n",
    "print('----------')\n",
    "print(np.multiply(arr1, arr2))\n",
    "print('----------')\n",
    "print(np.divide(arr1, arr2))"
   ]
  },
  {
   "cell_type": "code",
   "execution_count": null,
   "metadata": {},
   "outputs": [],
   "source": [
    "array_data = np.array([ 3, 7, 1, 2, 21])\n",
    "np.mean(array_data)"
   ]
  },
  {
   "cell_type": "code",
   "execution_count": null,
   "metadata": {},
   "outputs": [],
   "source": [
    "len(array_data)"
   ]
  },
  {
   "cell_type": "code",
   "execution_count": null,
   "metadata": {},
   "outputs": [],
   "source": [
    "np.median(array_data)"
   ]
  },
  {
   "cell_type": "code",
   "execution_count": null,
   "metadata": {},
   "outputs": [],
   "source": [
    "np.max(array_data)"
   ]
  },
  {
   "cell_type": "code",
   "execution_count": null,
   "metadata": {},
   "outputs": [],
   "source": [
    "np.min(array_data)"
   ]
  },
  {
   "cell_type": "code",
   "execution_count": null,
   "metadata": {},
   "outputs": [],
   "source": [
    "np.sum(array_data)"
   ]
  },
  {
   "cell_type": "code",
   "execution_count": null,
   "metadata": {
    "tags": []
   },
   "outputs": [],
   "source": [
    "# 브로드캐스팅(Broadcasting)\n",
    "import numpy as np\n",
    "a = np.array([1, 2, 3])\n",
    "b = np.array([4, 5, 6])\n",
    "print(a*5)\n",
    "print(b+5)\n",
    "print(a+b)\n",
    "print(a*b)\n",
    "print(b-a)\n",
    "print(b/a)"
   ]
  },
  {
   "cell_type": "code",
   "execution_count": null,
   "metadata": {},
   "outputs": [],
   "source": [
    "import numpy as np\n",
    "a = np.array([[1, 2], [3, 4]])\n",
    "b = np.array([5, 10])\n",
    "print(a+b)\n",
    "print(a*b)"
   ]
  }
 ],
 "metadata": {
  "kernelspec": {
   "display_name": "base",
   "language": "python",
   "name": "python3"
  },
  "language_info": {
   "codemirror_mode": {
    "name": "ipython",
    "version": 3
   },
   "file_extension": ".py",
   "mimetype": "text/x-python",
   "name": "python",
   "nbconvert_exporter": "python",
   "pygments_lexer": "ipython3",
   "version": "3.11.9"
  },
  "toc-autonumbering": true,
  "toc-showcode": true,
  "toc-showmarkdowntxt": true
 },
 "nbformat": 4,
 "nbformat_minor": 4
}
