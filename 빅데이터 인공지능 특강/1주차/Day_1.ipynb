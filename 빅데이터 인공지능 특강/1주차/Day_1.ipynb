{
 "cells": [
  {
   "cell_type": "code",
   "execution_count": null,
   "metadata": {},
   "outputs": [
    {
     "name": "stdout",
     "output_type": "stream",
     "text": [
      "Hello world\n"
     ]
    }
   ],
   "source": [
    "print(\"Hello world\")"
   ]
  },
  {
   "cell_type": "code",
   "execution_count": 1,
   "metadata": {},
   "outputs": [
    {
     "name": "stdout",
     "output_type": "stream",
     "text": [
      "합은 300\n"
     ]
    }
   ],
   "source": [
    "x = 100\n",
    "y = 200\n",
    "s = x + y\n",
    "print(\"합은\", s)"
   ]
  },
  {
   "cell_type": "code",
   "execution_count": 8,
   "metadata": {},
   "outputs": [
    {
     "name": "stdout",
     "output_type": "stream",
     "text": [
      "100000 23000 123000\n",
      "13 Python\n",
      "['A+', 'A0', 'B+']\n",
      "['Python', 13, ['A+', 'A0', 'B+']]\n",
      "-490.824\n",
      "a + b =  (12+5j)\n"
     ]
    }
   ],
   "source": [
    "age = 13\n",
    "num1 = 100_000\n",
    "num2 = 23_000\n",
    "p = 123.456\n",
    "q = 3 - 4*p\n",
    "name = 'Python'\n",
    "grade = ['A+', 'A0', 'B+']\n",
    "a = 8 + 2j\n",
    "b = 4 + 3j\n",
    "\n",
    "print(num1, num2, num1+num2)\n",
    "print(age, name)\n",
    "print(grade)\n",
    "print([name, age, grade])\n",
    "print(q)\n",
    "print('a + b = ', a + b)"
   ]
  },
  {
   "cell_type": "code",
   "execution_count": 11,
   "metadata": {},
   "outputs": [
    {
     "name": "stdout",
     "output_type": "stream",
     "text": [
      "<class 'int'>\n",
      "<class 'int'>\n",
      "<class 'str'>\n",
      "<class 'float'>\n",
      "<class 'complex'>\n",
      "<class 'list'>\n",
      "140708748969128\n"
     ]
    }
   ],
   "source": [
    "print(type(age))\n",
    "print(type(num1))\n",
    "print(type(name))\n",
    "print(type(q))\n",
    "print(type(a))\n",
    "print(type(grade))\n",
    "\n",
    "print(id(age))"
   ]
  },
  {
   "cell_type": "code",
   "execution_count": 12,
   "metadata": {},
   "outputs": [
    {
     "name": "stdout",
     "output_type": "stream",
     "text": [
      "10 20 30\n",
      "10 20\n",
      "20000 20000 20000\n"
     ]
    }
   ],
   "source": [
    "a = 10; b = 20; c = 30\n",
    "x, y = 10, 20\n",
    "i = j = k = 20000\n",
    "\n",
    "print(a, b, c)\n",
    "print(x, y)\n",
    "print(i, j, k)"
   ]
  },
  {
   "cell_type": "code",
   "execution_count": 14,
   "metadata": {},
   "outputs": [
    {
     "name": "stdout",
     "output_type": "stream",
     "text": [
      "Python 13\n"
     ]
    }
   ],
   "source": [
    "age = 13\n",
    "name = 'Python'\n",
    "print(name, age)"
   ]
  },
  {
   "cell_type": "code",
   "execution_count": 16,
   "metadata": {},
   "outputs": [
    {
     "ename": "NameError",
     "evalue": "name 'age' is not defined",
     "output_type": "error",
     "traceback": [
      "\u001b[1;31m---------------------------------------------------------------------------\u001b[0m",
      "\u001b[1;31mNameError\u001b[0m                                 Traceback (most recent call last)",
      "Cell \u001b[1;32mIn[16], line 1\u001b[0m\n\u001b[1;32m----> 1\u001b[0m \u001b[38;5;28;01mdel\u001b[39;00m age\n\u001b[0;32m      2\u001b[0m \u001b[38;5;28mprint\u001b[39m(name, age)\n",
      "\u001b[1;31mNameError\u001b[0m: name 'age' is not defined"
     ]
    }
   ],
   "source": [
    "del age # del : 변수 제거\n",
    "print(name, age)"
   ]
  },
  {
   "cell_type": "code",
   "execution_count": 17,
   "metadata": {},
   "outputs": [
    {
     "name": "stdout",
     "output_type": "stream",
     "text": [
      "10 20 30\n"
     ]
    }
   ],
   "source": [
    "# 리스트의 값을 변수에 저장\n",
    "num1, num2, num3 = [10, 20, 30]\n",
    "print(num1, num2, num3)"
   ]
  },
  {
   "cell_type": "code",
   "execution_count": 19,
   "metadata": {},
   "outputs": [
    {
     "name": "stdout",
     "output_type": "stream",
     "text": [
      "40 50 60\n"
     ]
    }
   ],
   "source": [
    "# 튜플의 값을 변수에 저장\n",
    "num4, num5, num6 = (40, 50, 60)\n",
    "print(num4, num5, num6)"
   ]
  },
  {
   "cell_type": "code",
   "execution_count": 26,
   "metadata": {},
   "outputs": [
    {
     "name": "stdout",
     "output_type": "stream",
     "text": [
      "정수형 a = 100, 실수형 a = 100.0, 문자형 b = 123\n",
      "b의 자료형 = <class 'int'>\n",
      "a + b = 223\n"
     ]
    }
   ],
   "source": [
    "a = 100; b = '123'\n",
    "print(f\"정수형 a = {a}, 실수형 a = {float(a)}, 문자형 b = {b}\")\n",
    "b = int(b)\n",
    "print(f\"b의 자료형 = {type(b)}\")\n",
    "print(f\"a + b = {a+b}\")"
   ]
  },
  {
   "cell_type": "code",
   "execution_count": 33,
   "metadata": {},
   "outputs": [
    {
     "name": "stdout",
     "output_type": "stream",
     "text": [
      "15\n"
     ]
    }
   ],
   "source": [
    "# 예제 1\n",
    "x = 5; y = 10\n",
    "print(x + y)"
   ]
  },
  {
   "cell_type": "code",
   "execution_count": 48,
   "metadata": {},
   "outputs": [
    {
     "name": "stdout",
     "output_type": "stream",
     "text": [
      "안녕하세요 노희완님\n"
     ]
    }
   ],
   "source": [
    "# 예제 2\n",
    "name = \"노희완\"\n",
    "print(\"안녕하세요\", name + \"님\") # 자바에서만 + 되는줄;; 파이썬은 , + 둘 다 된다."
   ]
  },
  {
   "cell_type": "code",
   "execution_count": 36,
   "metadata": {},
   "outputs": [
    {
     "name": "stdout",
     "output_type": "stream",
     "text": [
      "<class 'int'>\n",
      "<class 'float'>\n"
     ]
    }
   ],
   "source": [
    "# 예제 3\n",
    "a = 7; b = 3.5\n",
    "print(type(a))\n",
    "print(type(b))"
   ]
  },
  {
   "cell_type": "code",
   "execution_count": 38,
   "metadata": {},
   "outputs": [
    {
     "name": "stdout",
     "output_type": "stream",
     "text": [
      "HelloHelloHello\n"
     ]
    }
   ],
   "source": [
    "# 예제 4\n",
    "greeting = \"Hello\"\n",
    "print(greeting * 3)"
   ]
  },
  {
   "cell_type": "code",
   "execution_count": 50,
   "metadata": {},
   "outputs": [
    {
     "name": "stdout",
     "output_type": "stream",
     "text": [
      "7.5\n",
      "<class 'float'>\n"
     ]
    }
   ],
   "source": [
    "# 예제 5\n",
    "int_num = 5\n",
    "float_num = 2.5\n",
    "result = int_num + float_num\n",
    "\n",
    "print(result)\n",
    "print(type(result))"
   ]
  },
  {
   "cell_type": "code",
   "execution_count": 41,
   "metadata": {},
   "outputs": [],
   "source": [
    "# 예제 6"
   ]
  },
  {
   "cell_type": "code",
   "execution_count": 42,
   "metadata": {},
   "outputs": [],
   "source": [
    "# 예제 7"
   ]
  },
  {
   "cell_type": "code",
   "execution_count": 43,
   "metadata": {},
   "outputs": [],
   "source": [
    "# 예제 8"
   ]
  },
  {
   "cell_type": "code",
   "execution_count": 61,
   "metadata": {},
   "outputs": [],
   "source": [
    "# 음성 메세지 출력 라이브러리\n",
    "# pip install pyttsx3"
   ]
  },
  {
   "cell_type": "code",
   "execution_count": 63,
   "metadata": {},
   "outputs": [
    {
     "name": "stdout",
     "output_type": "stream",
     "text": [
      "노희완은 집에가고 싶다.\n",
      "집에 보내줘요!\n"
     ]
    }
   ],
   "source": [
    "import pyttsx3\n",
    "\n",
    "name = '노희완'\n",
    "message = name + '은 집에가고 싶다.\\n집에 보내줘요!'\n",
    "\n",
    "print(message)\n",
    "\n",
    "engine = pyttsx3.init()\n",
    "engine.say(message)\n",
    "engine.runAndWait()"
   ]
  }
 ],
 "metadata": {
  "kernelspec": {
   "display_name": "Python 3 (ipykernel)",
   "language": "python",
   "name": "python3"
  },
  "language_info": {
   "codemirror_mode": {
    "name": "ipython",
    "version": 3
   },
   "file_extension": ".py",
   "mimetype": "text/x-python",
   "name": "python",
   "nbconvert_exporter": "python",
   "pygments_lexer": "ipython3",
   "version": "3.11.9"
  }
 },
 "nbformat": 4,
 "nbformat_minor": 4
}
