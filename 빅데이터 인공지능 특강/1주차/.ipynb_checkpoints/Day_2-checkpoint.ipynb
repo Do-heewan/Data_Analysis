{
 "cells": [
  {
   "cell_type": "code",
   "execution_count": 1,
   "metadata": {},
   "outputs": [
    {
     "name": "stdin",
     "output_type": "stream",
     "text": [
      "이름을 입력하시오 노희완\n"
     ]
    }
   ],
   "source": [
    "name = input(\"이름을 입력하시오\")"
   ]
  },
  {
   "cell_type": "code",
   "execution_count": 2,
   "metadata": {},
   "outputs": [
    {
     "data": {
      "text/plain": [
       "'노희완'"
      ]
     },
     "execution_count": 2,
     "metadata": {},
     "output_type": "execute_result"
    }
   ],
   "source": [
    "name"
   ]
  },
  {
   "cell_type": "code",
   "execution_count": 3,
   "metadata": {},
   "outputs": [
    {
     "name": "stdout",
     "output_type": "stream",
     "text": [
      "노희완씨 안녕하세요.\n"
     ]
    }
   ],
   "source": [
    "print(name + '씨 안녕하세요.')"
   ]
  },
  {
   "cell_type": "code",
   "execution_count": 7,
   "metadata": {},
   "outputs": [
    {
     "name": "stdin",
     "output_type": "stream",
     "text": [
      "이름을 입력하시오. 노희완\n",
      "점수 : 99\n"
     ]
    },
    {
     "name": "stdout",
     "output_type": "stream",
     "text": [
      "<class 'str'> <class 'str'>\n",
      "name :  노희완 jumsu :  99\n"
     ]
    }
   ],
   "source": [
    "name = input('이름을 입력하시오.')\n",
    "num = input('점수 :')\n",
    "print(type(name), type(num))\n",
    "print('name : ', name, 'jumsu : ', num)"
   ]
  },
  {
   "cell_type": "code",
   "execution_count": 8,
   "metadata": {},
   "outputs": [
    {
     "name": "stdin",
     "output_type": "stream",
     "text": [
      "name : 노희완\n",
      "kor : 88\n",
      "mat : 77\n"
     ]
    },
    {
     "name": "stdout",
     "output_type": "stream",
     "text": [
      "name : 노희완 sum : 8877\n",
      "name : 노희완 sum : 165\n"
     ]
    }
   ],
   "source": [
    "name = input('name :')\n",
    "kor = input('kor :')\n",
    "mat = input('mat :')\n",
    "\n",
    "print('name :', name, 'sum :', kor + mat)\n",
    "print('name :', name, 'sum :', int(kor) + int(mat))"
   ]
  },
  {
   "cell_type": "code",
   "execution_count": 9,
   "metadata": {},
   "outputs": [
    {
     "name": "stdin",
     "output_type": "stream",
     "text": [
      "name : 노희완\n",
      "kor : 88\n",
      "mat : 99\n"
     ]
    },
    {
     "name": "stdout",
     "output_type": "stream",
     "text": [
      "name : 노희완 , sum = 187\n",
      "<class 'int'>\n"
     ]
    }
   ],
   "source": [
    "name = input('name :')\n",
    "kor = int(input('kor :'))\n",
    "mat = int(input('mat :'))\n",
    "\n",
    "print('name :', name, ', sum =', kor + mat)\n",
    "print(type(kor))"
   ]
  },
  {
   "cell_type": "code",
   "execution_count": 10,
   "metadata": {},
   "outputs": [
    {
     "name": "stdout",
     "output_type": "stream",
     "text": [
      "a + b = 116\n",
      "a - b = 84\n",
      "a * b = 1600\n",
      "a % b = 4\n",
      "a / b = 6.25\n",
      "a // b = 6\n"
     ]
    }
   ],
   "source": [
    "a = 100; b = 16\n",
    "\n",
    "print('a + b =', a+b)\n",
    "print('a - b =', a-b)\n",
    "print('a * b =', a*b)\n",
    "print('a % b =', a%b)\n",
    "print('a / b =', a/b)\n",
    "print('a // b =', a//b)"
   ]
  },
  {
   "cell_type": "code",
   "execution_count": 11,
   "metadata": {},
   "outputs": [
    {
     "name": "stdin",
     "output_type": "stream",
     "text": [
      "첫번째 정수를 입력하시오. : 10\n",
      "두번째 정수를 입력하시오. : 20\n"
     ]
    },
    {
     "name": "stdout",
     "output_type": "stream",
     "text": [
      "30\n"
     ]
    }
   ],
   "source": [
    "# 예제 1\n",
    "a = int(input(\"첫번째 정수를 입력하시오. :\"))\n",
    "b = int(input(\"두번째 정수를 입력하시오. :\"))\n",
    "sum = a + b\n",
    "print(sum)"
   ]
  },
  {
   "cell_type": "code",
   "execution_count": 1,
   "metadata": {},
   "outputs": [
    {
     "name": "stdin",
     "output_type": "stream",
     "text": [
      "첫번째 정수를 입력하시오. : 60\n",
      "두번째 정수를 입력하시오. : 4\n"
     ]
    },
    {
     "name": "stdout",
     "output_type": "stream",
     "text": [
      "60 + 4 = 64\n",
      "60 - 4 = 56\n",
      "60 * 4 = 240\n",
      "60 / 4 = 15.0\n",
      "60 + 4 = 64\n",
      "60 - 4 = 56\n",
      "60 * 4 = 240\n",
      "60 / 4 = 15.0\n"
     ]
    }
   ],
   "source": [
    "# 예제 2\n",
    "a = int(input(\"첫번째 정수를 입력하시오. :\"))\n",
    "b = int(input(\"두번째 정수를 입력하시오. :\"))\n",
    "sum = a + b\n",
    "min = a - b\n",
    "mul = a * b\n",
    "div = a / b\n",
    "\n",
    "print(a, '+', b, '=', sum)\n",
    "print(a, '-', b, '=', min)\n",
    "print(a, '*', b, '=', mul)\n",
    "print(a, '/', b, '=', div)\n",
    "\n",
    "print(f\"{a} + {b} = {sum}\")\n",
    "print(f\"{a} - {b} = {min}\")\n",
    "print(f\"{a} * {b} = {mul}\")\n",
    "print(f\"{a} / {b} = {div}\")"
   ]
  },
  {
   "cell_type": "code",
   "execution_count": 25,
   "metadata": {},
   "outputs": [
    {
     "name": "stdin",
     "output_type": "stream",
     "text": [
      "소의 수를 입력하시오 : 7\n",
      "돼지의 수를 입력하시오 : 5\n",
      "닭의 수를 입력하시오 : 4\n"
     ]
    },
    {
     "name": "stdout",
     "output_type": "stream",
     "text": [
      "전체 다리의 수는 56 입니다.\n",
      "전체 다리의 수는 56 입니다.\n"
     ]
    }
   ],
   "source": [
    "# 예제 3\n",
    "cow = int(input(\"소의 수를 입력하시오 :\"))\n",
    "pig = int(input(\"돼지의 수를 입력하시오 :\"))\n",
    "chic = int(input(\"닭의 수를 입력하시오 :\"))\n",
    "\n",
    "sum = cow * 4 + pig * 4 + chic * 2\n",
    "\n",
    "print(\"전체 다리의 수는\", sum, \"입니다.\")\n",
    "print(f\"전체 다리의 수는 {sum} 입니다.\")"
   ]
  },
  {
   "cell_type": "code",
   "execution_count": null,
   "metadata": {},
   "outputs": [],
   "source": [
    "# 할당 연산자 (대입 연산자)\n",
    "x = 99\n",
    "y = '노희완'\n",
    "number = 106\n",
    "result = number / x"
   ]
  },
  {
   "cell_type": "code",
   "execution_count": 16,
   "metadata": {},
   "outputs": [
    {
     "name": "stdout",
     "output_type": "stream",
     "text": [
      "10 20 30\n",
      "20 10 30\n"
     ]
    }
   ],
   "source": [
    "x = y = z = 0 # 한번에 여러개의 변수 초기화\n",
    "x, y, z = 10, 20, 30 # 한번에 여러개의 변수에 할당\n",
    "print(x, y, z)\n",
    "x, y = y, x # x와 y의 값을 서로 교환한다. (파이썬은 가능하다?)\n",
    "print(x, y, z)"
   ]
  },
  {
   "cell_type": "code",
   "execution_count": 18,
   "metadata": {},
   "outputs": [
    {
     "name": "stdout",
     "output_type": "stream",
     "text": [
      "10 20\n",
      "(20, 10)\n",
      "(20, 10)\n"
     ]
    }
   ],
   "source": [
    "def change(x, y):\n",
    "    x, y = y, x\n",
    "    return x, y\n",
    "\n",
    "def reference(x, y):\n",
    "    tmp = x\n",
    "    x = y\n",
    "    y = tmp\n",
    "    return x, y\n",
    "\n",
    "x = 10\n",
    "y = 20\n",
    "print(x, y)\n",
    "print(change(x, y))\n",
    "print(reference(x, y))"
   ]
  },
  {
   "cell_type": "code",
   "execution_count": 10,
   "metadata": {},
   "outputs": [
    {
     "name": "stdout",
     "output_type": "stream",
     "text": [
      "15\n"
     ]
    }
   ],
   "source": [
    "# 복합 연산자\n",
    "total = 10\n",
    "total += 5\n",
    "print(total)"
   ]
  },
  {
   "cell_type": "code",
   "execution_count": 12,
   "metadata": {},
   "outputs": [
    {
     "name": "stdout",
     "output_type": "stream",
     "text": [
      "80\n"
     ]
    }
   ],
   "source": [
    "score = 100\n",
    "score -= 20\n",
    "print(score)"
   ]
  },
  {
   "cell_type": "code",
   "execution_count": 14,
   "metadata": {},
   "outputs": [
    {
     "name": "stdout",
     "output_type": "stream",
     "text": [
      "20\n"
     ]
    }
   ],
   "source": [
    "points = 10\n",
    "points *= 2\n",
    "print(points)"
   ]
  },
  {
   "cell_type": "code",
   "execution_count": 15,
   "metadata": {},
   "outputs": [
    {
     "name": "stdout",
     "output_type": "stream",
     "text": [
      "25.0\n"
     ]
    }
   ],
   "source": [
    "price = 100\n",
    "price /= 4\n",
    "print(price)"
   ]
  },
  {
   "cell_type": "code",
   "execution_count": 19,
   "metadata": {},
   "outputs": [
    {
     "name": "stdout",
     "output_type": "stream",
     "text": [
      "True\n"
     ]
    }
   ],
   "source": [
    "# 관계 연산자\n",
    "distance = 10\n",
    "n =  distance > 3\n",
    "\n",
    "print(n)"
   ]
  },
  {
   "cell_type": "code",
   "execution_count": 20,
   "metadata": {},
   "outputs": [
    {
     "name": "stdout",
     "output_type": "stream",
     "text": [
      "True\n"
     ]
    }
   ],
   "source": [
    "s1 = '노인과 바다'\n",
    "s2 = '노인과 바다'\n",
    "\n",
    "print(s1 == s2)"
   ]
  },
  {
   "cell_type": "code",
   "execution_count": 23,
   "metadata": {},
   "outputs": [
    {
     "name": "stdout",
     "output_type": "stream",
     "text": [
      "False\n",
      "True\n"
     ]
    }
   ],
   "source": [
    "s1 = '노인과 버터'\n",
    "s2 = '노인과 바다'\n",
    "\n",
    "print(s1 < s2)\n",
    "print(s1 != s2)"
   ]
  },
  {
   "cell_type": "code",
   "execution_count": 24,
   "metadata": {},
   "outputs": [
    {
     "name": "stdout",
     "output_type": "stream",
     "text": [
      "True False False True True False\n",
      "----------\n",
      "False\n",
      "True\n",
      "False True\n"
     ]
    }
   ],
   "source": [
    "a = 10; b = 9\n",
    "print(a > b, a < b, a == b, a != b, a >= b, a <= b)\n",
    "print('-' * 10)\n",
    "print((a > b) and (a == b))\n",
    "print((a > b) or (a == b))\n",
    "print(not(a), not(a < b))"
   ]
  },
  {
   "cell_type": "code",
   "execution_count": 28,
   "metadata": {},
   "outputs": [
    {
     "name": "stdout",
     "output_type": "stream",
     "text": [
      "1 77\n"
     ]
    },
    {
     "name": "stdin",
     "output_type": "stream",
     "text": [
      "두 수의 합을 입력하시오. 78\n"
     ]
    },
    {
     "name": "stdout",
     "output_type": "stream",
     "text": [
      "True\n"
     ]
    }
   ],
   "source": [
    "# 예제 4\n",
    "import random\n",
    "\n",
    "x = random.randint(1, 100)\n",
    "y = random.randint(1, 100)\n",
    "print(x, y)\n",
    "\n",
    "num = int(input(\"두 수의 합을 입력하시오.\"))\n",
    "print(num == (x + y))"
   ]
  },
  {
   "cell_type": "code",
   "execution_count": 34,
   "metadata": {},
   "outputs": [
    {
     "name": "stdin",
     "output_type": "stream",
     "text": [
      "세 자리 정수를 입력하시오. 123\n"
     ]
    },
    {
     "name": "stdout",
     "output_type": "stream",
     "text": [
      "백의자리 : 1\n",
      "십의자리 : 2\n",
      "일의자리 : 3\n"
     ]
    }
   ],
   "source": [
    "# 예제 5\n",
    "num = int(input('세 자리 정수를 입력하시오.'))\n",
    "a = num // 100\n",
    "b = num % 100 // 10\n",
    "c = num % 100 % 10\n",
    "\n",
    "print('백의자리 :', a)\n",
    "print('십의자리 :', b)\n",
    "print('일의자리 :', c)"
   ]
  },
  {
   "cell_type": "code",
   "execution_count": 42,
   "metadata": {},
   "outputs": [
    {
     "name": "stdin",
     "output_type": "stream",
     "text": [
      "물건의 가격을 입력하시오. 250\n",
      "받은 금액 :  1000\n"
     ]
    },
    {
     "name": "stdout",
     "output_type": "stream",
     "text": [
      "거스름돈은 다음과 같습니다.\n",
      "거스름돈은 750 이며 500원 1개, 100원 2개, 10원 5개, 1원 0개\n",
      "거스름돈은 750 이며 500원 1 개 100원 2 개 10원 5 개 1원 0 개\n"
     ]
    }
   ],
   "source": [
    "# 예제 6\n",
    "price = int(input(\"물건의 가격을 입력하시오.\"))\n",
    "money = int(input(\"받은 금액 : \"))\n",
    "print(\"거스름돈은 다음과 같습니다.\")\n",
    "\n",
    "def calc(x, y):\n",
    "    min = x - y\n",
    "    m_500 = min // 500\n",
    "    m_100 = min % 500 // 100\n",
    "    m_10 = min % 100 // 10\n",
    "    m_1 = min % 10\n",
    "\n",
    "    print(f\"거스름돈은 {min} 이며 500원 {m_500}개, 100원 {m_100}개, 10원 {m_10}개, 1원 {m_1}개\")\n",
    "    print(\"거스름돈은\", min, \"이며 500원\", m_500, \"개 100원\", m_100, \"개 10원\", m_10, \"개 1원\", m_1, \"개\")\n",
    "calc(money, price)"
   ]
  },
  {
   "cell_type": "code",
   "execution_count": 62,
   "metadata": {},
   "outputs": [
    {
     "name": "stdin",
     "output_type": "stream",
     "text": [
      "날짜를 입력하시오. 0\n"
     ]
    },
    {
     "name": "stdout",
     "output_type": "stream",
     "text": [
      "화요일\n"
     ]
    }
   ],
   "source": [
    "# 예제 7\n",
    "import datetime\n",
    "\n",
    "# 오늘의 요일\n",
    "today = datetime.datetime.now().weekday()\n",
    "# 요일 리스트\n",
    "week = ['월요일', '화요일', '수요일', '목요일', '금요일', '토요일', '일요일']\n",
    "\n",
    "num = int(input(\"날짜를 입력하시오.\"))\n",
    "next_day = today + (num % 6)\n",
    "\n",
    "print(week[next_day])"
   ]
  },
  {
   "cell_type": "code",
   "execution_count": 68,
   "metadata": {},
   "outputs": [
    {
     "name": "stdout",
     "output_type": "stream",
     "text": [
      "나는 ulsan에 살고 있는 Noh입니다.\n",
      "x + y = 12348 | x * y = 37035\n",
      "z의 값은 3.14\n"
     ]
    }
   ],
   "source": [
    "# f-String\n",
    "name = \"Noh\"\n",
    "city = \"ulsan\"\n",
    "x = 12345; y = 3; z = 3.1415\n",
    "\n",
    "print(f\"나는 {city}에 살고 있는 {name}입니다.\")\n",
    "print(f\"x + y = {x+y} | x * y = {x*y}\")\n",
    "print(f\"z의 값은 {z:.2f}\")"
   ]
  }
 ],
 "metadata": {
  "kernelspec": {
   "display_name": "Python 3 (ipykernel)",
   "language": "python",
   "name": "python3"
  },
  "language_info": {
   "codemirror_mode": {
    "name": "ipython",
    "version": 3
   },
   "file_extension": ".py",
   "mimetype": "text/x-python",
   "name": "python",
   "nbconvert_exporter": "python",
   "pygments_lexer": "ipython3",
   "version": "3.11.9"
  }
 },
 "nbformat": 4,
 "nbformat_minor": 4
}
