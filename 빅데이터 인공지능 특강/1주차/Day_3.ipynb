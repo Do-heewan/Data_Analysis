{
 "cells": [
  {
   "cell_type": "code",
   "execution_count": null,
   "id": "3b48580b-4e3a-4c67-bcc5-d93d62f651ff",
   "metadata": {},
   "outputs": [],
   "source": [
    "# 조건문"
   ]
  },
  {
   "cell_type": "code",
   "execution_count": 4,
   "id": "961df44a-4983-46b6-b3cf-d99ffcde5d79",
   "metadata": {},
   "outputs": [
    {
     "name": "stdout",
     "output_type": "stream",
     "text": [
      "정수를 입력하세요. 10\n"
     ]
    },
    {
     "name": "stdout",
     "output_type": "stream",
     "text": [
      "10\n",
      "10은 짝수 입니다.\n"
     ]
    }
   ],
   "source": [
    "# 예제 1\n",
    "num = int(input(\"정수를 입력하세요.\"))\n",
    "\n",
    "print(num)\n",
    "if (num % 2 == 0):\n",
    "    print(f\"{num}은 짝수 입니다.\")"
   ]
  },
  {
   "cell_type": "code",
   "execution_count": 5,
   "id": "2b951371-4649-456e-a517-b6e270f0b517",
   "metadata": {},
   "outputs": [
    {
     "name": "stdout",
     "output_type": "stream",
     "text": [
      "참\n"
     ]
    }
   ],
   "source": [
    "# if ~ else문\n",
    "num = 10\n",
    "if (num == 10):\n",
    "    print('참')\n",
    "else:\n",
    "    print('거짓')"
   ]
  },
  {
   "cell_type": "code",
   "execution_count": 9,
   "id": "2a06aaf7-ef21-450e-b7b6-3f381c0b0fb4",
   "metadata": {},
   "outputs": [
    {
     "name": "stdout",
     "output_type": "stream",
     "text": [
      "정수 입력:  1\n"
     ]
    },
    {
     "name": "stdout",
     "output_type": "stream",
     "text": [
      "홀수\n"
     ]
    }
   ],
   "source": [
    "# 짝수, 홀수 판단\n",
    "num = int(input(\"정수 입력: \"))\n",
    "\n",
    "if (num % 2 == 0):\n",
    "    print(\"짝수\")\n",
    "else:\n",
    "    print(\"홀수\")"
   ]
  },
  {
   "cell_type": "code",
   "execution_count": 11,
   "id": "50a0c5c8-e474-4537-abac-79b27a1df581",
   "metadata": {},
   "outputs": [
    {
     "name": "stdout",
     "output_type": "stream",
     "text": [
      "숫자1을 입력하시오. 11\n",
      "숫자2을 입력하시오. 11\n"
     ]
    },
    {
     "name": "stdout",
     "output_type": "stream",
     "text": [
      "큰 수 = 11, 작은 수 = 11\n"
     ]
    }
   ],
   "source": [
    "num1 = int(input(\"숫자1을 입력하시오.\"))\n",
    "num2 = int(input(\"숫자2을 입력하시오.\"))\n",
    "\n",
    "if (num1 > num2):\n",
    "    max_num = num1\n",
    "    min_num = num2\n",
    "else:\n",
    "    max_num = num2\n",
    "    min_num = num1\n",
    "\n",
    "print(f\"큰 수 = {max_num}, 작은 수 = {min_num}\")"
   ]
  },
  {
   "cell_type": "code",
   "execution_count": 14,
   "id": "693c068e-ff3c-4c69-b806-ba184e90ed53",
   "metadata": {},
   "outputs": [
    {
     "name": "stdout",
     "output_type": "stream",
     "text": [
      "정수를 입력하시오. :  2\n"
     ]
    },
    {
     "name": "stdout",
     "output_type": "stream",
     "text": [
      "양수입니다.\n"
     ]
    }
   ],
   "source": [
    "# 예제 2\n",
    "num = int(input(\"정수를 입력하시오. : \"))\n",
    "\n",
    "if (num > 0):\n",
    "    print(\"양수입니다.\")\n",
    "else:\n",
    "    print(\"음수입니다.\")"
   ]
  },
  {
   "cell_type": "code",
   "execution_count": 15,
   "id": "5507e495-f8d6-467d-b48b-f6ac7a67dfb2",
   "metadata": {},
   "outputs": [
    {
     "name": "stdout",
     "output_type": "stream",
     "text": [
      "숫자1을 입력하시오. 10\n",
      "숫자2을 입력하시오. 10\n"
     ]
    },
    {
     "name": "stdout",
     "output_type": "stream",
     "text": [
      "숫자가 같습니다.\n"
     ]
    }
   ],
   "source": [
    "# 예제 3\n",
    "\n",
    "num1 = int(input(\"숫자1을 입력하시오.\"))\n",
    "num2 = int(input(\"숫자2을 입력하시오.\"))\n",
    "\n",
    "if (num1 == num2):\n",
    "    print(\"숫자가 같습니다.\")\n",
    "else:\n",
    "    print(\"같지 않습니다.\")"
   ]
  },
  {
   "cell_type": "code",
   "execution_count": 16,
   "id": "325f9f7f-00d6-43b5-bca2-c9caba88a28d",
   "metadata": {},
   "outputs": [
    {
     "name": "stdout",
     "output_type": "stream",
     "text": [
      "나이를 입력하시오. :  10\n"
     ]
    },
    {
     "name": "stdout",
     "output_type": "stream",
     "text": [
      "18세 미만입니다.\n"
     ]
    }
   ],
   "source": [
    "# 예제 4\n",
    "age = int(input(\"나이를 입력하시오. : \"))\n",
    "\n",
    "if (age >= 18):\n",
    "    print(\"18세 이상입니다.\")\n",
    "else:\n",
    "    print(\"18세 미만입니다.\")"
   ]
  },
  {
   "cell_type": "code",
   "execution_count": 19,
   "id": "019ab769-474f-423f-afae-777bda6e2710",
   "metadata": {},
   "outputs": [
    {
     "name": "stdout",
     "output_type": "stream",
     "text": [
      "숫자1을 입력하시오. 10\n",
      "숫자2을 입력하시오. 11\n"
     ]
    },
    {
     "name": "stdout",
     "output_type": "stream",
     "text": [
      "큰 수 = 11, 작은 수 = 10\n"
     ]
    }
   ],
   "source": [
    "num1 = int(input(\"숫자1을 입력하시오.\"))\n",
    "num2 = int(input(\"숫자2을 입력하시오.\"))\n",
    "\n",
    "if (num1 == num2):\n",
    "    max_num = min_num = num1\n",
    "    print(\"두 수는 같습니다.\")\n",
    "else:\n",
    "    if (num1 > num2):\n",
    "        max_num = num1\n",
    "        min_num = num2\n",
    "    else:\n",
    "        max_num = num2\n",
    "        min_num = num1\n",
    "    print(f\"큰 수 = {max_num}, 작은 수 = {min_num}\")"
   ]
  },
  {
   "cell_type": "code",
   "execution_count": 20,
   "id": "2688a6e0-d1a0-45b0-8336-266f50e302b7",
   "metadata": {},
   "outputs": [
    {
     "name": "stdout",
     "output_type": "stream",
     "text": [
      "나이를 입력하시오. :  10\n"
     ]
    },
    {
     "name": "stdout",
     "output_type": "stream",
     "text": [
      "어린이입니다.\n"
     ]
    }
   ],
   "source": [
    "age = int(input(\"나이를 입력하시오. : \"))\n",
    "\n",
    "if (age > 0):\n",
    "    if (age < 13):\n",
    "        print(\"어린이입니다.\")\n",
    "    elif (age < 20):\n",
    "        print(\"청소년입니다.\")\n",
    "    else:\n",
    "        print(\"성인입니다.\")\n",
    "else:\n",
    "    print(\"올바른 나이를 입력하시오.\")"
   ]
  },
  {
   "cell_type": "code",
   "execution_count": 26,
   "id": "3b2c6b42-8c22-496b-abfd-771216678d9a",
   "metadata": {},
   "outputs": [
    {
     "name": "stdout",
     "output_type": "stream",
     "text": [
      "(울주군, 중구, 북구, 남구, 동구 중) 주소지의 구를 입력하시오. : 동구\n",
      " 5000\n"
     ]
    },
    {
     "name": "stdout",
     "output_type": "stream",
     "text": [
      "배송비는 2000원 입니다.\n"
     ]
    }
   ],
   "source": [
    "# 예제 5\n",
    "city = input(\"(울주군, 중구, 북구, 남구, 동구 중) 주소지의 구를 입력하시오. :\")\n",
    "price = int(input())\n",
    "\n",
    "if (city == \"울주군\"):\n",
    "    if (price >= 40000):\n",
    "        deliver = 0\n",
    "    else:\n",
    "        deliver = 3000\n",
    "else:\n",
    "    if (price >= 20000):\n",
    "        deliver = 0\n",
    "    else:\n",
    "        deliver = 2000\n",
    "\n",
    "print(f\"배송비는 {deliver}원 입니다.\")"
   ]
  },
  {
   "cell_type": "code",
   "execution_count": 28,
   "id": "97f2f5a7-655a-4ba3-a371-2d23e02e6111",
   "metadata": {},
   "outputs": [
    {
     "name": "stdout",
     "output_type": "stream",
     "text": [
      "숫자1을 입력하시오. 10\n",
      "숫자2을 입력하시오. 10\n"
     ]
    },
    {
     "name": "stdout",
     "output_type": "stream",
     "text": [
      "두 수는 같습니다.\n",
      "큰 수 = 10, 작은 수 = 10\n"
     ]
    }
   ],
   "source": [
    "num1 = int(input(\"숫자1을 입력하시오.\"))\n",
    "num2 = int(input(\"숫자2을 입력하시오.\"))\n",
    "\n",
    "if (num1 == num2):\n",
    "    max_num = min_num = num1\n",
    "    print(\"두 수는 같습니다.\")\n",
    "elif (num1 > num2):\n",
    "    max_num = num1\n",
    "    min_num = num2\n",
    "else:\n",
    "    max_num = num2\n",
    "    min_num = num1\n",
    "print(f\"큰 수 = {max_num}, 작은 수 = {min_num}\")"
   ]
  },
  {
   "cell_type": "code",
   "execution_count": 29,
   "id": "a79340f4-220d-44af-8099-d67981dc28d7",
   "metadata": {},
   "outputs": [
    {
     "name": "stdout",
     "output_type": "stream",
     "text": [
      "첫 번째 수 :  10\n",
      "두 번째 수 :  12\n"
     ]
    },
    {
     "name": "stdout",
     "output_type": "stream",
     "text": [
      "더 큰 수는 12입니다.\n"
     ]
    }
   ],
   "source": [
    "x = int(input(\"첫 번째 수 : \"))\n",
    "y = int(input(\"두 번째 수 : \"))\n",
    "\n",
    "max_num = x if x > y else y\n",
    "print(f\"더 큰 수는 {max_num}입니다.\")"
   ]
  },
  {
   "cell_type": "code",
   "execution_count": 33,
   "id": "1d1dfdb5-c409-44c1-9a28-bf45beb9b118",
   "metadata": {},
   "outputs": [
    {
     "name": "stdout",
     "output_type": "stream",
     "text": [
      "숫자를 입력하시오. 10\n"
     ]
    },
    {
     "name": "stdout",
     "output_type": "stream",
     "text": [
      "10은 양수입니다.\n"
     ]
    }
   ],
   "source": [
    "num = int(input(\"숫자를 입력하시오.\"))\n",
    "\n",
    "result = \"양수\" if num > 0 else \"음수\" if num < 0 else \"0\"\n",
    "print(f\"{num}은 {result}입니다.\")"
   ]
  },
  {
   "cell_type": "code",
   "execution_count": 35,
   "id": "516e3d44-7579-4e8c-8916-9ed3228c592e",
   "metadata": {},
   "outputs": [
    {
     "name": "stdout",
     "output_type": "stream",
     "text": [
      "나이를 입력하시오. :  10\n",
      "키를 입력하시오. :  100\n"
     ]
    },
    {
     "name": "stdout",
     "output_type": "stream",
     "text": [
      "저속 롤러코스터 입장!\n"
     ]
    }
   ],
   "source": [
    "# 예제 6\n",
    "age = int(input(\"나이를 입력하시오. : \"))\n",
    "height = int(input(\"키를 입력하시오. : \"))\n",
    "\n",
    "if (age >= 8):\n",
    "    if (height >= 140):\n",
    "        print(\"고속 롤러코스터 입장!\")\n",
    "    else:\n",
    "        print(\"저속 롤러코스터 입장!\")\n",
    "else:\n",
    "    print(\"입장 불가능!\")"
   ]
  },
  {
   "cell_type": "code",
   "execution_count": 36,
   "id": "8ee81407-9374-41cb-a62b-c70e4e664c8a",
   "metadata": {},
   "outputs": [
    {
     "name": "stdout",
     "output_type": "stream",
     "text": [
      "성적을 입력하시오. :  98\n"
     ]
    },
    {
     "name": "stdout",
     "output_type": "stream",
     "text": [
      "학점은 A입니다.\n"
     ]
    }
   ],
   "source": [
    "# 예제 7\n",
    "score = int(input(\"성적을 입력하시오. : \"))\n",
    "\n",
    "if (score >= 90):\n",
    "    result = \"A\"\n",
    "elif (score >= 80):\n",
    "    result = \"B\"\n",
    "elif (score >= 70):\n",
    "    result = \"C\"\n",
    "elif (score >= 60):\n",
    "    result = \"D\"\n",
    "else:\n",
    "    result = \"F\"\n",
    "\n",
    "print(f\"학점은 {result}입니다.\")"
   ]
  },
  {
   "cell_type": "code",
   "execution_count": 41,
   "id": "4763e7c6-708c-49c9-a3ff-b7b70d897c78",
   "metadata": {},
   "outputs": [
    {
     "name": "stdout",
     "output_type": "stream",
     "text": [
      "l사이즈가 이득입니다.\n"
     ]
    }
   ],
   "source": [
    "# 예제 8\n",
    "PI = 3.14\n",
    "\n",
    "m_size = 20\n",
    "l_size = 30\n",
    "\n",
    "if (m_size ** 2 * PI * 2 > l_size ** 2 * PI):\n",
    "    print(\"m사이즈가 이득입니다.\")\n",
    "else:\n",
    "    print(\"l사이즈가 이득입니다.\")"
   ]
  },
  {
   "cell_type": "code",
   "execution_count": null,
   "id": "cab07354-13d2-4395-ac61-594e044f5d71",
   "metadata": {},
   "outputs": [],
   "source": [
    "# 반복문"
   ]
  },
  {
   "cell_type": "code",
   "execution_count": 37,
   "id": "31a77aa1-4d31-48af-902c-9fb8e7338f24",
   "metadata": {},
   "outputs": [
    {
     "name": "stdout",
     "output_type": "stream",
     "text": [
      "i value는 0\n",
      "i value는 1\n",
      "i value는 2\n",
      "i value는 3\n",
      "i value는 4\n",
      "i value는 5\n",
      "i value는 6\n",
      "i value는 7\n",
      "i value는 8\n",
      "i value는 9\n"
     ]
    }
   ],
   "source": [
    "for i in range(10):\n",
    "    print(f\"i value는 {i}\")"
   ]
  },
  {
   "cell_type": "code",
   "execution_count": 38,
   "id": "b8f60ab8-a35e-40f7-8629-8125ddde84ef",
   "metadata": {},
   "outputs": [
    {
     "name": "stdout",
     "output_type": "stream",
     "text": [
      "i value는 1\n",
      "i value는 3\n",
      "i value는 5\n",
      "i value는 7\n",
      "i value는 9\n"
     ]
    }
   ],
   "source": [
    "for i in range(1, 10, 2):\n",
    "    print(f\"i value는 {i}\")"
   ]
  },
  {
   "cell_type": "code",
   "execution_count": 43,
   "id": "dce7ea6b-39dc-44ad-ab4c-33f1514cf201",
   "metadata": {},
   "outputs": [
    {
     "name": "stdout",
     "output_type": "stream",
     "text": [
      "i value는 2\n",
      "i value는 3\n",
      "i value는 4\n",
      "i value는 5\n",
      "i value는 6\n",
      "i value는 7\n"
     ]
    }
   ],
   "source": [
    "for i in range(2, 8):\n",
    "    print(f\"i value는 {i}\")"
   ]
  },
  {
   "cell_type": "code",
   "execution_count": 45,
   "id": "eca8058a-41fb-4349-a23b-4213d4c7ab8c",
   "metadata": {},
   "outputs": [
    {
     "name": "stdout",
     "output_type": "stream",
     "text": [
      "i value는 8\n",
      "i value는 6\n",
      "i value는 4\n"
     ]
    }
   ],
   "source": [
    "for i in range(8, 2, -2):\n",
    "    print(f\"i value는 {i}\")"
   ]
  },
  {
   "cell_type": "code",
   "execution_count": 46,
   "id": "8f0fd776-ea95-4e3d-bb9c-450af92be3b1",
   "metadata": {},
   "outputs": [
    {
     "name": "stdout",
     "output_type": "stream",
     "text": [
      "[0, 1, 2, 3, 4] [1, 2, 3, 4]\n"
     ]
    }
   ],
   "source": [
    "# range() 함수\n",
    "# 특정 구간의 숫자의 범위를 만들어주는 함수\n",
    "# 리스트나 튜플과 함께 사용\n",
    "\n",
    "a = list(range(5))\n",
    "b = list(range(1, 5))\n",
    "\n",
    "print(a, b)"
   ]
  },
  {
   "cell_type": "code",
   "execution_count": 48,
   "id": "d48bb252-3068-4679-be61-1c461d75760e",
   "metadata": {},
   "outputs": [
    {
     "name": "stdout",
     "output_type": "stream",
     "text": [
      "i value : U\n",
      "i value : l\n",
      "i value : s\n",
      "i value : a\n",
      "i value : n\n"
     ]
    }
   ],
   "source": [
    "# for문 : 시퀀스 객체로 반복하기\n",
    "name = \"Ulsan\" # 문자열\n",
    "for i in name:\n",
    "    print(\"i value :\", i)"
   ]
  },
  {
   "cell_type": "code",
   "execution_count": 49,
   "id": "b24dc0da-681b-4783-99d4-87aebd0b0a11",
   "metadata": {},
   "outputs": [
    {
     "name": "stdout",
     "output_type": "stream",
     "text": [
      "One\n",
      "Two\n",
      "Three\n"
     ]
    }
   ],
   "source": [
    "li = ['One', 'Two', 'Three']\n",
    "for i in li: # 리트트\n",
    "    print(i)"
   ]
  },
  {
   "cell_type": "code",
   "execution_count": 51,
   "id": "82c90c17-f0e7-42d5-be95-7c787ea831c8",
   "metadata": {},
   "outputs": [
    {
     "name": "stdout",
     "output_type": "stream",
     "text": [
      "One\n",
      "Two\n",
      "Three\n"
     ]
    }
   ],
   "source": [
    "tu = ('One', 'Two', 'Three')\n",
    "for i in tu: # 튜플\n",
    "    print(i)"
   ]
  },
  {
   "cell_type": "code",
   "execution_count": 57,
   "id": "244f99bc-5371-4d27-a9a9-786cc3dd31a8",
   "metadata": {},
   "outputs": [
    {
     "name": "stdout",
     "output_type": "stream",
     "text": [
      "10\n",
      "1부터 10까지의 합은 55\n"
     ]
    }
   ],
   "source": [
    "num = 0\n",
    "for i in range(1, 11):\n",
    "    num += i\n",
    "\n",
    "print(f\"1부터 10까지의 합은 {num}\")"
   ]
  },
  {
   "cell_type": "code",
   "execution_count": 66,
   "id": "2016ac77-4078-4816-9646-d8f0ca257eff",
   "metadata": {},
   "outputs": [
    {
     "name": "stdout",
     "output_type": "stream",
     "text": [
      "Happy Christmas!\n",
      "Happy Christmas!\n",
      "Happy Christmas!\n",
      "Happy Christmas!\n",
      "Happy Christmas!\n",
      "Happy Christmas!\n",
      "Happy Christmas!\n",
      "Happy Christmas!\n",
      "Happy Christmas!\n",
      "Happy Christmas!\n",
      "0 1 2 3 4 \n",
      "0 2 4 6 8 \n",
      "-2 -4 -6 -8 \n",
      "210\n"
     ]
    }
   ],
   "source": [
    "# 예제 9\n",
    "for i in range(10):\n",
    "    print(\"Happy Christmas!\")\n",
    "    \n",
    "for i in range(5):\n",
    "    print(i, end=\" \")\n",
    "    \n",
    "print(\"\")\n",
    "\n",
    "for i in range(0, 10, 2):\n",
    "    print(i, end=\" \")\n",
    "\n",
    "print(\"\")\n",
    "\n",
    "for i in range(-2, -10, -2):\n",
    "    print(i, end=\" \")\n",
    "    \n",
    "print(\"\")\n",
    "\n",
    "num = 0\n",
    "for i in range(1, 21):\n",
    "    num += i\n",
    "print(num)"
   ]
  },
  {
   "cell_type": "code",
   "execution_count": 4,
   "id": "949f8efe-4908-4a37-abd2-1667b78cc56d",
   "metadata": {},
   "outputs": [
    {
     "name": "stdout",
     "output_type": "stream",
     "text": [
      "1에서 31까지의 합계는 496\n"
     ]
    }
   ],
   "source": [
    "# 예제 10\n",
    "num = int(input(\"숫자를 입력하시오. : \"))\n",
    "\n",
    "n = 0\n",
    "for i in range(1, num + 1):\n",
    "    n += i\n",
    "\n",
    "print(f\"1에서 {num}까지의 합계는 {n}\")"
   ]
  },
  {
   "cell_type": "code",
   "execution_count": 6,
   "id": "fd0abf1c",
   "metadata": {},
   "outputs": [
    {
     "name": "stdout",
     "output_type": "stream",
     "text": [
      "1 2 4 5 8 10 20 40 "
     ]
    }
   ],
   "source": [
    "# 예제 11\n",
    "num = int(input(\"약수를 구할 수 입력 : \"))\n",
    "\n",
    "for i in range(1, num + 1):\n",
    "    if (num % i == 0):\n",
    "        print(i, end = \" \")"
   ]
  },
  {
   "cell_type": "code",
   "execution_count": 8,
   "id": "26b33d90",
   "metadata": {},
   "outputs": [
    {
     "name": "stdout",
     "output_type": "stream",
     "text": [
      "2 * 1 = 2\n",
      "2 * 2 = 4\n",
      "2 * 3 = 6\n",
      "2 * 4 = 8\n",
      "2 * 5 = 10\n",
      "2 * 6 = 12\n",
      "2 * 7 = 14\n",
      "2 * 8 = 16\n",
      "2 * 9 = 18\n",
      "\n",
      "3 * 1 = 3\n",
      "3 * 2 = 6\n",
      "3 * 3 = 9\n",
      "3 * 4 = 12\n",
      "3 * 5 = 15\n",
      "3 * 6 = 18\n",
      "3 * 7 = 21\n",
      "3 * 8 = 24\n",
      "3 * 9 = 27\n",
      "\n",
      "4 * 1 = 4\n",
      "4 * 2 = 8\n",
      "4 * 3 = 12\n",
      "4 * 4 = 16\n",
      "4 * 5 = 20\n",
      "4 * 6 = 24\n",
      "4 * 7 = 28\n",
      "4 * 8 = 32\n",
      "4 * 9 = 36\n",
      "\n",
      "5 * 1 = 5\n",
      "5 * 2 = 10\n",
      "5 * 3 = 15\n",
      "5 * 4 = 20\n",
      "5 * 5 = 25\n",
      "5 * 6 = 30\n",
      "5 * 7 = 35\n",
      "5 * 8 = 40\n",
      "5 * 9 = 45\n",
      "\n",
      "6 * 1 = 6\n",
      "6 * 2 = 12\n",
      "6 * 3 = 18\n",
      "6 * 4 = 24\n",
      "6 * 5 = 30\n",
      "6 * 6 = 36\n",
      "6 * 7 = 42\n",
      "6 * 8 = 48\n",
      "6 * 9 = 54\n",
      "\n",
      "7 * 1 = 7\n",
      "7 * 2 = 14\n",
      "7 * 3 = 21\n",
      "7 * 4 = 28\n",
      "7 * 5 = 35\n",
      "7 * 6 = 42\n",
      "7 * 7 = 49\n",
      "7 * 8 = 56\n",
      "7 * 9 = 63\n",
      "\n",
      "8 * 1 = 8\n",
      "8 * 2 = 16\n",
      "8 * 3 = 24\n",
      "8 * 4 = 32\n",
      "8 * 5 = 40\n",
      "8 * 6 = 48\n",
      "8 * 7 = 56\n",
      "8 * 8 = 64\n",
      "8 * 9 = 72\n",
      "\n",
      "9 * 1 = 9\n",
      "9 * 2 = 18\n",
      "9 * 3 = 27\n",
      "9 * 4 = 36\n",
      "9 * 5 = 45\n",
      "9 * 6 = 54\n",
      "9 * 7 = 63\n",
      "9 * 8 = 72\n",
      "9 * 9 = 81\n",
      "\n"
     ]
    }
   ],
   "source": [
    "# 예제 12\n",
    "for i in range(2, 10):\n",
    "    for j in range(1, 10):\n",
    "        print(f\"{i} * {j} = {i * j}\")\n",
    "    print(\"\")"
   ]
  }
 ],
 "metadata": {
  "kernelspec": {
   "display_name": "base",
   "language": "python",
   "name": "python3"
  },
  "language_info": {
   "codemirror_mode": {
    "name": "ipython",
    "version": 3
   },
   "file_extension": ".py",
   "mimetype": "text/x-python",
   "name": "python",
   "nbconvert_exporter": "python",
   "pygments_lexer": "ipython3",
   "version": "3.11.9"
  }
 },
 "nbformat": 4,
 "nbformat_minor": 5
}
